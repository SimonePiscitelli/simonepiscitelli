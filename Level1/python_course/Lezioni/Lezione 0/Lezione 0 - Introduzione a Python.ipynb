{
 "cells": [
  {
   "cell_type": "markdown",
   "id": "e4833c26-e5a4-4bbb-96e1-bc23ac3f3186",
   "metadata": {},
   "source": [
    "# Cos'è Python?"
   ]
  },
  {
   "cell_type": "markdown",
   "id": "9bea0b19-c5ad-44ee-ac8f-e5af3177a9ab",
   "metadata": {},
   "source": [
    "Python è un linguaggio di programmazione ampiamente utilizzato nelle applicazioni Web, nello sviluppo di software, nella data science e nel machine learning (ML). Gli sviluppatori utilizzano Python perché è efficiente e facile da imparare e può essere eseguito su diverse piattaforme. Ma che significa linguaggio di programmazione?"
   ]
  },
  {
   "cell_type": "markdown",
   "id": "48b32184-1d93-43f8-b3d1-398e0824f67e",
   "metadata": {},
   "source": [
    "Per capire cosa si intende per linguaggio di programmazione, ci domandiamo: come fa python a capire quello che scriviamo? \n",
    "Python è un esempio di linguaggio 'interpretativo', ovvero, utilizza un interprete per tradurre ciò che scrivo in linguaggio 'comprensibile' al computer.\n",
    "\n",
    "L'interprete in questione per Jupyter Notebook si chiama **IPython** e il suo ruolo è quello di leggere riga per riga ciò che scriviamo e inizialmente analizzarne la grammatica confrontandola con un'insieme di regole grammaticali che si basano sul singolo linguaggio. Così come l'italiano, l'inglese e il tedesco hanno le loro regole, anche python non fa eccezione. Il processo di analisi della grammatica si chiama **parsing** e consiste nella suddivisione delle frasi scritte in python in pezzi più piccoli (parole chiave) che vengono analizzati dall'interprete. \n",
    "\n",
    "l'inteprete in questione traduce successivamente il codice in un formato intermedio, parente del codice binario, detto **bytecode**. Il bytecode è una sequenza di istruzioni ottimizzate per python che verrà passata alla **Python Virtual Machine**, un'ulteriore componente software dedicato alla mediazione tra codice e hardware.\n",
    "\n",
    "Finito questo processo, la piattaforma ti restituirà l'output. Magico!"
   ]
  },
  {
   "cell_type": "markdown",
   "id": "6d388cc5-5c6e-4e08-adc1-69412173e324",
   "metadata": {},
   "source": [
    "## Tipi di dati"
   ]
  },
  {
   "cell_type": "markdown",
   "id": "117105e5-d71d-4d59-aa5d-b4e79f5f6de8",
   "metadata": {},
   "source": [
    "Python viene classificato come linguaggio **dinamicamente tipizzato**, ovvero non è necessario dichiarare il tipo di variabile che voglio definire in quanto il processo di allocazione di una di esse nella memoria è automatizzato. Qualora io definissi una variabile come ad esempio x=2, la piattaforma fa in modo di tradurre l'informazione in bytecode in modo tale che possa essere letta dal computer. Di seguito un link per informazioni sul codice binario in modo da capire come il computer elabora le informazioni:\n",
    "'https://it.wikipedia.org/wiki/Sistema_numerico_binario'.\n",
    "\n",
    "Di seguito elenchiamo alcuni tipi di variabili semplici che si possono definire in python:"
   ]
  },
  {
   "cell_type": "code",
   "execution_count": 1,
   "id": "6b096304-fa19-4f6f-b09a-fc3cae403fde",
   "metadata": {},
   "outputs": [],
   "source": [
    "x = 2     #variabile numerica intera\n",
    "y = 3.    #variabile numerica in virgola mobile (ho aggiunto il punto)\n",
    "booleano = True      #variabile booleana Vero/Falso\n",
    "stringa = 'Simone'   #variabile stringa, ovvero traducibile in lettere e parole"
   ]
  },
  {
   "cell_type": "markdown",
   "id": "c04bfe7f-317d-4085-b298-beb2a4fd0650",
   "metadata": {},
   "source": [
    "Particolarmente interessanti sono i **numeri in virgola mobile**, chiamati così proprio perchè con una determinata quantita di memoria posso rappresentare sia numeri grandi che molto piccoli. Essi si dividono in *float* e *double* dove:\n",
    "\n",
    "- float: rappresentati da 32 bit\n",
    "- double: rappresentati da 64 bit\n",
    "\n",
    "chiaramente i double necessitano di una memoria maggiore (che può costituire problemi in codici grandi) ma hanno la possibilità di rappresentare numeri più grandi/piccoli o con maggiore precisione. Ancora una volta si rimanda al link https://it.wikipedia.org/wiki/Bit per capire cos'è un bit e come funziona la memoria nei sistemi informatici.\n",
    "\n",
    "A questo punto, siamo pronti per iniziare a programmare!"
   ]
  },
  {
   "cell_type": "markdown",
   "id": "20a8a166-c13b-466c-b4fb-e2f11fe11126",
   "metadata": {},
   "source": [
    "### Hello world!"
   ]
  },
  {
   "cell_type": "markdown",
   "id": "283e25b5-70e5-43ee-9d8b-cfc5a3946100",
   "metadata": {},
   "source": [
    "Questo non sarebbe un vero corso di programmazione se non si incominciasse con il famoso 'Hello World'. Per visualizzare una qualsiasi variabile, stringa o numero in python si utilizza il comando *print*."
   ]
  },
  {
   "cell_type": "code",
   "execution_count": 2,
   "id": "ca09289b-b2b7-40d9-b431-f7bbfb19e72e",
   "metadata": {},
   "outputs": [
    {
     "name": "stdout",
     "output_type": "stream",
     "text": [
      "Hello World\n"
     ]
    }
   ],
   "source": [
    "print('Hello World')"
   ]
  },
  {
   "cell_type": "markdown",
   "id": "4e2753ea-ad55-4814-a329-7e42d5963136",
   "metadata": {},
   "source": [
    "in questo caso 'Hello World' rappresenta una variabile stringa. Le stringhe possono anche essere concatenate tra di loro aggiungendo il carattere '+' in questo modo"
   ]
  },
  {
   "cell_type": "code",
   "execution_count": 7,
   "id": "6bc6deb1-2bf0-4025-9e5e-8a3064c60a36",
   "metadata": {},
   "outputs": [
    {
     "name": "stdout",
     "output_type": "stream",
     "text": [
      "Sai programmare in python? Io sto imparando\n"
     ]
    }
   ],
   "source": [
    "print('Sai programmare in python?' + ' ' + 'Io sto imparando')"
   ]
  },
  {
   "cell_type": "markdown",
   "id": "7d5a4721-6479-458b-8711-c5d7e42d4f05",
   "metadata": {},
   "source": [
    "dove ' ' mi è servito per inserire uno spazio tra il punto interrogativo e la terza stringa"
   ]
  },
  {
   "cell_type": "markdown",
   "id": "b86070c3-de3a-418a-a288-39e1258ee8cf",
   "metadata": {},
   "source": [
    "### Operazioni"
   ]
  },
  {
   "cell_type": "markdown",
   "id": "1d2a5a2e-8f4e-4c50-8c92-e1fe003fb858",
   "metadata": {},
   "source": [
    "A questo punto, svolgiamo qualche operazione!"
   ]
  },
  {
   "cell_type": "code",
   "execution_count": 13,
   "id": "8445d73d-c292-4b97-adfa-98fff9c79b37",
   "metadata": {},
   "outputs": [
    {
     "name": "stdout",
     "output_type": "stream",
     "text": [
      "Addizione:4\n",
      "Sottrazione:0\n",
      "Moltiplicazione:4\n",
      "Divisione tra float:1.000000\n",
      "Divisione tra int:1\n"
     ]
    }
   ],
   "source": [
    "print('Addizione:%i'%(2+2))\n",
    "print('Sottrazione:%i'%(2-2))\n",
    "print('Moltiplicazione:%i'%(2*2))\n",
    "print('Divisione tra float:%f'%(4/4))\n",
    "print('Divisione tra interi:%i'%(4//4))"
   ]
  },
  {
   "cell_type": "markdown",
   "id": "660d36ad-6290-4604-8efe-bf17d9deda35",
   "metadata": {},
   "source": [
    "come si osserva, python è in grado di svoglere le operazioni fondamentali tra numeri interi e a virgola mobile. In questo esempio ho anche concatenato una stringa e un numero. Nella stringa il carattere '%i' verrà sostituito con il contenuto della parentesi '%()' posto dopo la stringa. Ovviamente si utilizzeranno caratteri diversi per i float (%f) e per le stringhe (%s).\n",
    "\n",
    "Da notare anche la differenza tra le due operazioni di divisione, dove:\n",
    "\n",
    "- '/' indica una divisione con resto\n",
    "- '//' indica una divisione senza resto"
   ]
  },
  {
   "cell_type": "markdown",
   "id": "c4f26be8-917c-4785-b7ae-ab08511a8b4b",
   "metadata": {},
   "source": [
    "### Variabili"
   ]
  },
  {
   "cell_type": "markdown",
   "id": "c34d29ac-5c3d-457f-957b-9844adbe1b20",
   "metadata": {},
   "source": [
    "Una volta visto come stampare stringhe ed effettuare operazioni di base, è il momento di definire le nostre variabili! Per variabile intendiamo un oggetto che verrà salvato in memoria e che potremmo riutilizzare quando e come vogliamo. In particolare, Python riesce a catalogare le variabili senza che io gli dica di che tipo sia. Come visto in precedenza, definiamo della variabili e cerchiamo di capire come posso interagirvi. Iniziamo con i numeri."
   ]
  },
  {
   "cell_type": "code",
   "execution_count": 17,
   "id": "844a2278-c5d1-4fa4-bb74-869179ade9d0",
   "metadata": {},
   "outputs": [
    {
     "name": "stdout",
     "output_type": "stream",
     "text": [
      "Variabile somma: 5\n"
     ]
    }
   ],
   "source": [
    "x = 2\n",
    "y = 3\n",
    "z = x+y\n",
    "print('Variabile somma: %i'%z)"
   ]
  },
  {
   "cell_type": "markdown",
   "id": "fead0849-a357-4c8c-9d37-b2fb7df614d7",
   "metadata": {},
   "source": [
    "Nell'esempio abbiamo definito due varibili x e y salvate come interi e ne abbiamo effettuato la somma. Quando si definiscono le variabili bisogna fare attenzione a come nominarle in quanto python sostiuisce automaticamente il valore di una variabile se viene definita successivamente. Eccone un esempio:"
   ]
  },
  {
   "cell_type": "code",
   "execution_count": 18,
   "id": "d6f541f0-aa0c-47fd-bd37-4a5103a2e7c0",
   "metadata": {},
   "outputs": [
    {
     "name": "stdout",
     "output_type": "stream",
     "text": [
      "Valore di x: 3\n",
      "Valore di x: 5\n"
     ]
    }
   ],
   "source": [
    "x = 3\n",
    "print('Valore di x: %i'%x)\n",
    "\n",
    "x = 5\n",
    "print('Valore di x: %i'%x)"
   ]
  },
  {
   "cell_type": "markdown",
   "id": "cce820ae-5653-4bd5-ac39-19c9cd0a3c7f",
   "metadata": {},
   "source": [
    "In questo esempio definire di nuovo x ha cambiato il valore assegnato alla variabile in quando il nuovo valore è stato memorizzato nella stessa locazione."
   ]
  },
  {
   "cell_type": "markdown",
   "id": "f646cb1a-766d-4cec-8c34-9116dc736a69",
   "metadata": {},
   "source": [
    "Oltre i numeri, è possibile avere delle variabili stringhe. Innanzitutto come facciamo a riconoscere quale variabile ho di fronte?"
   ]
  },
  {
   "cell_type": "code",
   "execution_count": 21,
   "id": "5ff398e9-5f4b-46b0-a31e-87674b778ca9",
   "metadata": {},
   "outputs": [
    {
     "name": "stdout",
     "output_type": "stream",
     "text": [
      "10 10\n"
     ]
    }
   ],
   "source": [
    "a = '10'\n",
    "b = 10\n",
    "print(a,b)"
   ]
  },
  {
   "cell_type": "markdown",
   "id": "45453067-5911-4f85-93bb-431e674463f3",
   "metadata": {},
   "source": [
    "In questo esempio a e b sono chiaramente definite una come stringa e una come intero. In un codice molto complesso potrebbe essere difficile risalire alla definizione delle variabili, perciò, per capire il tipo di variabile che ho di fronte, possiamo usare il comando *type*."
   ]
  },
  {
   "cell_type": "code",
   "execution_count": 23,
   "id": "dcf82ad1-f357-4a55-b75a-546621ec5270",
   "metadata": {},
   "outputs": [
    {
     "data": {
      "text/plain": [
       "(str, int)"
      ]
     },
     "execution_count": 23,
     "metadata": {},
     "output_type": "execute_result"
    }
   ],
   "source": [
    "type(a), type(b)"
   ]
  },
  {
   "cell_type": "markdown",
   "id": "1d1341fa-f73e-4981-9538-c561cd7a99c0",
   "metadata": {},
   "source": [
    "In questo caso, il comando ci restituisce il tipo di variabile.\n",
    "\n",
    "Definiamo ora una variabile stringa e vediamone le caratteristiche"
   ]
  },
  {
   "cell_type": "code",
   "execution_count": 33,
   "id": "ef903e73-01fc-4f0b-a25c-1706164f3606",
   "metadata": {},
   "outputs": [
    {
     "name": "stdout",
     "output_type": "stream",
     "text": [
      "Prima lettera: F\n",
      "Seconda lettera: r\n",
      "Ultima lettera: o\n",
      "Pezzo iniziale: Fra\n",
      "Pezzo centrale: nce\n",
      "Pezzo finale: sco\n"
     ]
    }
   ],
   "source": [
    "nome = 'Francesco'\n",
    "\n",
    "print('Prima lettera: %s'%nome[0])\n",
    "print('Seconda lettera: %s'%nome[1])\n",
    "print('Ultima lettera: %s'%nome[-1])"
   ]
  },
  {
   "cell_type": "markdown",
   "id": "61e4c4cb-e356-48d9-bd98-d7a9ae24e022",
   "metadata": {},
   "source": [
    "In questo esempio, abbiamo definito una variabile *nome* per poi estrarne le lettere. La sintassi delle parentesi quadre mi restituisce 'un pezzo' della stringa seguendo il seguente ordine:\n",
    "\n",
    "- Numeri positivi: da sinistra a destra partendo dallo 0\n",
    "- Numeri negativi: da destra a sinistra partendo dal -1\n",
    "\n",
    "In questo modo posso estrarre stringhe più piccole da una variabile. Posso anche estrarre pezzi più lunghi utilizzando i ':'."
   ]
  },
  {
   "cell_type": "code",
   "execution_count": 34,
   "id": "b2b91043-2b20-4ccb-99b6-d47004e05eb4",
   "metadata": {},
   "outputs": [
    {
     "name": "stdout",
     "output_type": "stream",
     "text": [
      "Pezzo iniziale: Fra\n",
      "Pezzo centrale: nce\n",
      "Pezzo finale: sco\n"
     ]
    }
   ],
   "source": [
    "print('Pezzo iniziale: %s'%nome[0:3])\n",
    "print('Pezzo centrale: %s'%nome[3:6])\n",
    "print('Pezzo finale: %s'%nome[6:9])"
   ]
  },
  {
   "cell_type": "markdown",
   "id": "f97513b1-464f-4c51-9a48-13170a33ddca",
   "metadata": {},
   "source": [
    "In questo esempio considero nel pezzo iniziale le lettere F-R-A corrispondenti ai numeri 0,1,2 e così via. In questa notazione la lettera corrispondente a nome[3] non viene considerata."
   ]
  },
  {
   "cell_type": "markdown",
   "id": "5d1d779e-3794-4b35-9dcf-e98dcd1e6e7b",
   "metadata": {},
   "source": [
    "Altra feature interessante può essere quella di capire quante lettere ci sono in una particolare stringa. Per questo si utilizza il comando *len*"
   ]
  },
  {
   "cell_type": "code",
   "execution_count": 38,
   "id": "cc712dcb-2ad7-46a4-95d0-fb1e135ff5ec",
   "metadata": {},
   "outputs": [
    {
     "name": "stdout",
     "output_type": "stream",
     "text": [
      "numero di lettere 9\n"
     ]
    }
   ],
   "source": [
    "numero_lettere = len(nome)\n",
    "print('numero di lettere {}'.format(numero_lettere))"
   ]
  },
  {
   "cell_type": "markdown",
   "id": "b308dd9d-fe12-4754-9078-01d5aa9e68fe",
   "metadata": {},
   "source": [
    "in questo esempio ho memorizzato il numero di lettere nella variabile *nome* (9) nella variabile *numero_lettere*. A questo punto ho stampato l'output utilizzando una variante degli asterischi."
   ]
  },
  {
   "cell_type": "markdown",
   "id": "d375091a-be41-489b-bd1b-d60a373fbcd2",
   "metadata": {},
   "source": [
    "### Operatori di Comparazione"
   ]
  },
  {
   "cell_type": "markdown",
   "id": "e927c671-827a-44a5-88bc-54b61ac76d94",
   "metadata": {},
   "source": [
    "Concludiamo questa introduzione parlando degli operatori comparativi. Cosa sono? Per operatori comparativi intendiamo tutti quelli che esprimono una relazione tra due variabili. Ne elenchiamo alcuni e li commentiamo"
   ]
  },
  {
   "cell_type": "code",
   "execution_count": 45,
   "id": "ba9192d9-94a6-4230-83b7-124a6e8ef3b9",
   "metadata": {},
   "outputs": [
    {
     "name": "stdout",
     "output_type": "stream",
     "text": [
      "True\n",
      "False\n",
      "False\n",
      "True\n",
      "True\n",
      "False\n"
     ]
    }
   ],
   "source": [
    "a = 1.\n",
    "b = 1.\n",
    "\n",
    "print(a==b)  #doppio uguale: indica il paragone tra due variabili\n",
    "print(a>b)  #maggioranza\n",
    "print(a<b)  #minoranza\n",
    "print(a<=b)  #minore-uguale\n",
    "print(a>=b)  #maggiore-uguale\n",
    "print(a!=b)  #diverso"
   ]
  },
  {
   "cell_type": "markdown",
   "id": "c9266933-7739-4b2c-8073-b50329c0ad9d",
   "metadata": {},
   "source": [
    "Come si vede facilmente tutti questi operatori di comparazione mettono in relazione due variabili e restituiscono un valore booleano (vero o falso). Questi operatori sono molto utili per effettuare dei confronti."
   ]
  },
  {
   "cell_type": "markdown",
   "id": "bed009b6-0d82-4b25-aa89-9d2d2c85fbbd",
   "metadata": {},
   "source": [
    "### Input"
   ]
  },
  {
   "cell_type": "markdown",
   "id": "4277aa1f-d751-4e0d-8976-d5ca0d152aa3",
   "metadata": {},
   "source": [
    "Concludiamo inserendo anche un comando di input in cui è possibile interagire direttamente con le variabili. Il comando *input()* serve a farti interagire con il codice in modo diretto, inserendo i dati che vuoi."
   ]
  },
  {
   "cell_type": "code",
   "execution_count": 50,
   "id": "c0d5ac1e-4728-4117-81f1-b8e4e51182b8",
   "metadata": {},
   "outputs": [
    {
     "name": "stdin",
     "output_type": "stream",
     "text": [
      "Inserisci il tuo nome: Simone\n"
     ]
    },
    {
     "name": "stdout",
     "output_type": "stream",
     "text": [
      "Simone\n"
     ]
    }
   ],
   "source": [
    "nome = input('Inserisci il tuo nome:')\n",
    "print(nome)"
   ]
  },
  {
   "cell_type": "markdown",
   "id": "70594061-09bd-46cc-baac-8f69d965041c",
   "metadata": {},
   "source": [
    "Il nome verrà poi salvato nella variabile"
   ]
  },
  {
   "cell_type": "markdown",
   "id": "b0bab649-91a3-4372-a2e7-635a9008a54e",
   "metadata": {},
   "source": [
    "### Esercizio 1: Manipolazione delle stringhe\n",
    "\n",
    "- definisci una variabile stringa che contenga il tuo nome e una che contenga il tuo cognome \n",
    "- stampa la lunghezza delle due stringhe, salvale in due variabili e crea una variabile somma delle due lunghezze\n",
    "- concatena le stringhe e salva l'insieme in una variabile\n",
    "- stampa la lunghezza della stringa concatenata, salvala in una variabile e verifica che sia uguale alla variabile definita nel punto 2"
   ]
  },
  {
   "cell_type": "markdown",
   "id": "fbdced6f-4212-45c6-86c9-203bddad79c3",
   "metadata": {},
   "source": [
    "### Esercizio 2: Calcola Volume e superficie di un cilindro\n",
    "\n",
    "- definisci una variabile raggio, una pi greco e una altezza per calcolare superficie e volume di un cilindro\n",
    "- crea un codice in cui devi inserire i valori di raggio e altezza senza definirli a priori"
   ]
  },
  {
   "cell_type": "markdown",
   "id": "77b0df98-af22-4ae8-8171-1ebeb1624bc1",
   "metadata": {},
   "source": [
    "\\begin{gather}\n",
    "    S = 2\\pi r(r+h) \\\\\n",
    "    V = \\pi r^2 h \n",
    "\\end{gather}"
   ]
  },
  {
   "cell_type": "markdown",
   "id": "f9455646-7f0e-46ca-83f9-b1bf567c9d69",
   "metadata": {},
   "source": [
    "### Sfida: Sasso, Carta, Forbici, Lizard, Spock!"
   ]
  },
  {
   "cell_type": "code",
   "execution_count": 6,
   "id": "34f77212-fc89-4f04-8067-e27318a48276",
   "metadata": {},
   "outputs": [
    {
     "name": "stdout",
     "output_type": "stream",
     "text": [
      "Benvenuto a Sasso, Carta, Forbice, Lizard, Spock!\n",
      "Scegli tra: sasso, carta, forbice, lizard, spock\n"
     ]
    },
    {
     "name": "stdin",
     "output_type": "stream",
     "text": [
      "La tua scelta:  spock\n"
     ]
    },
    {
     "name": "stdout",
     "output_type": "stream",
     "text": [
      "Il computer ha scelto: lizard\n",
      "Hai perso!\n"
     ]
    }
   ],
   "source": [
    "import random\n",
    "\n",
    "def get_winner(player, computer):\n",
    "    if player == computer:\n",
    "        return \"Pareggio!\"\n",
    "    \n",
    "    if (player == \"sasso\" and (computer == \"forbice\" or computer == \"lizard\")) or \\\n",
    "       (player == \"forbice\" and (computer == \"carta\" or computer == \"lizard\")) or \\\n",
    "       (player == \"carta\" and (computer == \"sasso\" or computer == \"spock\")) or \\\n",
    "       (player == \"lizard\" and (computer == \"spock\" or computer == \"carta\")) or \\\n",
    "       (player == \"spock\" and (computer == \"forbice\" or computer == \"sasso\")):\n",
    "        return \"Hai vinto!\"\n",
    "    \n",
    "    return \"Hai perso!\"\n",
    "\n",
    "def play_game():\n",
    "    choices = [\"sasso\", \"carta\", \"forbice\", \"lizard\", \"spock\"]\n",
    "    print(\"Benvenuto a Sasso, Carta, Forbice, Lizard, Spock!\")\n",
    "    print(\"Scegli tra: sasso, carta, forbice, lizard, spock\")\n",
    "\n",
    "    player_choice = input(\"La tua scelta: \").strip().lower()\n",
    "    \n",
    "    if player_choice not in choices:\n",
    "        print(\"Scelta non valida! Riprova.\")\n",
    "        return\n",
    "\n",
    "    computer_choice = random.choice(choices)\n",
    "    print(f\"Il computer ha scelto: {computer_choice}\")\n",
    "\n",
    "    result = get_winner(player_choice, computer_choice)\n",
    "    print(result)\n",
    "\n",
    "# Avvia il gioco\n",
    "play_game()\n"
   ]
  },
  {
   "cell_type": "code",
   "execution_count": null,
   "id": "080a699d-e54b-4d21-99b6-ba3fbdc62cb9",
   "metadata": {},
   "outputs": [],
   "source": []
  },
  {
   "cell_type": "code",
   "execution_count": null,
   "id": "ba9bd888-2afd-49ee-80e1-1f501007788e",
   "metadata": {},
   "outputs": [],
   "source": []
  },
  {
   "cell_type": "code",
   "execution_count": null,
   "id": "edddf8b4-7525-40d2-ad59-646a71bf34df",
   "metadata": {},
   "outputs": [],
   "source": []
  },
  {
   "cell_type": "code",
   "execution_count": null,
   "id": "cde43a68-e5d1-46bb-b2b4-9c8524b43ab4",
   "metadata": {},
   "outputs": [],
   "source": []
  }
 ],
 "metadata": {
  "kernelspec": {
   "display_name": "Python 3 (ipykernel)",
   "language": "python",
   "name": "python3"
  },
  "language_info": {
   "codemirror_mode": {
    "name": "ipython",
    "version": 3
   },
   "file_extension": ".py",
   "mimetype": "text/x-python",
   "name": "python",
   "nbconvert_exporter": "python",
   "pygments_lexer": "ipython3",
   "version": "3.8.9"
  }
 },
 "nbformat": 4,
 "nbformat_minor": 5
}
