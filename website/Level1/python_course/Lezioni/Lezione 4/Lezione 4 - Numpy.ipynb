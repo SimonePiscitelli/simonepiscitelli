{
 "cells": [
  {
   "cell_type": "markdown",
   "id": "546ec56d-41dc-4569-8416-b678f1fc888f",
   "metadata": {},
   "source": [
    "## Libreria Numpy"
   ]
  },
  {
   "cell_type": "markdown",
   "id": "d1008bd0-b8cd-4fae-848f-c191be981256",
   "metadata": {},
   "source": [
    "In questa lezione andremo ad esplorare una delle librerie più usate in python: Numpy! Innanzitutto facciamo una breve introduzione su cosa siano le librerie. In python è possibile importare funzioni da file separati in modo tale da frammentare il codice che si sta scrivendo ed organizzare il tutto in maniera più snella. Ovviamente, dividere il codice in singole parti che fanno cose differenti non può che aiutarti nel caso vi fossero errori o più in generale ad assegnare ad ogni componente una funzione. Le librerie, o anche moduli, si possono creare come file con estensione '.py', e possono contenere diverse funzioni richiamabili tramite il comando import.\n",
    "\n",
    "Per quanto riguarda numpy (numerical python), si parla anche qui di una libreria creata da una comunità gigantesca di sviluppatori in modo tale da poter permettere ai programmatori in python di usare immediatamente funzioni che altrimenti dovrebbero inventare loro.\n",
    "\n",
    "Innanzitutto, importiamo la libreria. Ricordiamo che la libreria dev'essere innanzitutto installata perchè venga trovata! Di conseguenza da terminale sarà necessario il comando 'pip numpy' per installare tale modulo."
   ]
  },
  {
   "cell_type": "code",
   "execution_count": 1,
   "id": "eb0a8652-3d33-4216-b168-538f728ed261",
   "metadata": {},
   "outputs": [],
   "source": [
    "import numpy as np"
   ]
  },
  {
   "cell_type": "markdown",
   "id": "9496790d-b303-4f48-8a5d-8670d55f4e65",
   "metadata": {},
   "source": [
    "Fatto! Con questa semplice riga abbiamo importato la nuova libreria e possiamo utilizzare tutte le funzioni al suo interno. Il diminutivo \n",
    "'np' è arbitrario; ovvero, dato che ogni volta che vogliamo usare una funzione di numpy dovremo dire alla piattaforma di attingere da quella libreria, useremo 'np' come diminutivo per richiamare questo modulo.\n",
    "\n",
    "Numpy è una libreria che contiene principalmente funzioni matematiche che consentono di effettuare le più svariate operazioni. Di seguito vediamo alcuni di questi comandi. Il protagonista principale di questa libreria è 'l'array', ovvero un vettore. Similmente alla lista, gli array sono contenitori di oggetti (numeri, stringhe...) che godono di proprietà particolari e hanno il grosso vantaggio di poter essere combinati in diversi modi molto semplici."
   ]
  },
  {
   "cell_type": "code",
   "execution_count": 3,
   "id": "8bfdecdb-8a06-43cb-bfd2-a173d8e5a42d",
   "metadata": {},
   "outputs": [
    {
     "name": "stdout",
     "output_type": "stream",
     "text": [
      "[1 2 3]\n"
     ]
    }
   ],
   "source": [
    "#definisco un array\n",
    "a = np.array([1,2,3])\n",
    "print(a)"
   ]
  },
  {
   "cell_type": "markdown",
   "id": "16cc049c-29c1-4e31-8ba6-bb4cd77e87df",
   "metadata": {},
   "source": [
    "Come vediamo, l'array è molto simile ad una lista, anche se possiede una sintassi differente. Allo stesso modo delle liste viene indicizzata a partire dallo zero e si possono richiamare le componenti allo stesso modo."
   ]
  },
  {
   "cell_type": "code",
   "execution_count": 4,
   "id": "a230abd3-7406-4322-8b56-6a141a0aa0d8",
   "metadata": {},
   "outputs": [
    {
     "name": "stdout",
     "output_type": "stream",
     "text": [
      "1\n"
     ]
    }
   ],
   "source": [
    "#richiamo le componenti\n",
    "a0 = a[0]\n",
    "print(a0)"
   ]
  },
  {
   "cell_type": "markdown",
   "id": "dd25feae-31d2-42b9-b7e4-7fe03b905c29",
   "metadata": {},
   "source": [
    "Caratteristica degli array è quello di avere una o più 'dimensioni'. In matematica conosciamo, ad esempio, le matrici: tabelle di numeri formate da righe e colonne. Allo stesso modo gli array (ma anche le liste) possono ramificarsi e contenere altri array."
   ]
  },
  {
   "cell_type": "code",
   "execution_count": 20,
   "id": "7949adff-f13a-412f-a95a-a80daeb29277",
   "metadata": {},
   "outputs": [
    {
     "name": "stdout",
     "output_type": "stream",
     "text": [
      "[[1 2]\n",
      " [3 4]]\n",
      "dimensione matrice: (2,2)\n"
     ]
    }
   ],
   "source": [
    "#definisco una matrice 2x2\n",
    "matrix = np.array([[1,2,],[3,4]])\n",
    "print(matrix)\n",
    "\n",
    "#Come vedo che è una matrice 2x2? Uso il comando shape\n",
    "dimensione = np.shape(matrix)\n",
    "print('dimensione matrice: (%i,%i)'%dimensione)"
   ]
  },
  {
   "cell_type": "markdown",
   "id": "3039e4ce-6268-49a6-b3c9-ba097aeab572",
   "metadata": {},
   "source": [
    "In questo caso la matrice è formata da due righe e due colonne. Per accedere a righe e colonne si continua con la sintassi data dagli indici.\n",
    "\n",
    "Vediamo ora altri modi per definire array di numpy"
   ]
  },
  {
   "cell_type": "code",
   "execution_count": 35,
   "id": "925662a0-63aa-4eae-8ad7-1de0ebe1b6e4",
   "metadata": {},
   "outputs": [
    {
     "name": "stdout",
     "output_type": "stream",
     "text": [
      "[0. 0. 0. 0. 0. 0. 0. 0. 0. 0.] (10,)\n",
      "[1. 1. 1. 1. 1. 1. 1. 1. 1. 1.] (10,)\n",
      "[5 5 5 5 5 5 5 5 5 5] (10,)\n",
      "[0 1 2 3 4 5 6 7 8 9] [0 2 4 6 8]\n",
      "[ 0.          0.1010101   0.2020202   0.3030303   0.4040404   0.50505051\n",
      "  0.60606061  0.70707071  0.80808081  0.90909091  1.01010101  1.11111111\n",
      "  1.21212121  1.31313131  1.41414141  1.51515152  1.61616162  1.71717172\n",
      "  1.81818182  1.91919192  2.02020202  2.12121212  2.22222222  2.32323232\n",
      "  2.42424242  2.52525253  2.62626263  2.72727273  2.82828283  2.92929293\n",
      "  3.03030303  3.13131313  3.23232323  3.33333333  3.43434343  3.53535354\n",
      "  3.63636364  3.73737374  3.83838384  3.93939394  4.04040404  4.14141414\n",
      "  4.24242424  4.34343434  4.44444444  4.54545455  4.64646465  4.74747475\n",
      "  4.84848485  4.94949495  5.05050505  5.15151515  5.25252525  5.35353535\n",
      "  5.45454545  5.55555556  5.65656566  5.75757576  5.85858586  5.95959596\n",
      "  6.06060606  6.16161616  6.26262626  6.36363636  6.46464646  6.56565657\n",
      "  6.66666667  6.76767677  6.86868687  6.96969697  7.07070707  7.17171717\n",
      "  7.27272727  7.37373737  7.47474747  7.57575758  7.67676768  7.77777778\n",
      "  7.87878788  7.97979798  8.08080808  8.18181818  8.28282828  8.38383838\n",
      "  8.48484848  8.58585859  8.68686869  8.78787879  8.88888889  8.98989899\n",
      "  9.09090909  9.19191919  9.29292929  9.39393939  9.49494949  9.5959596\n",
      "  9.6969697   9.7979798   9.8989899  10.        ] (100,)\n"
     ]
    }
   ],
   "source": [
    "N=10\n",
    "\n",
    "#array di tutti zero\n",
    "z = np.zeros(N)\n",
    "print(z,np.shape(z))\n",
    "\n",
    "#array di tutti uno\n",
    "ones = np.ones(N)\n",
    "print(ones, np.shape(ones))\n",
    "\n",
    "#array di tutti numeri uguali\n",
    "u = np.full(N,5)\n",
    "print(u,np.shape(u))\n",
    "\n",
    "#array di sequenze ordinate\n",
    "s = np.arange(0,N)\n",
    "s1 = np.arange(0,N,2)      #Il terzo numero in questo caso indica di generare numeri ogni 2\n",
    "print(s,s1)\n",
    "\n",
    "#array di numeri equispaziati\n",
    "e = np.linspace(0,10,100)\n",
    "print(e, np.shape(e))"
   ]
  },
  {
   "cell_type": "markdown",
   "id": "78c5d901-84c2-4e88-a18c-3871bf25793b",
   "metadata": {},
   "source": [
    "Come abbiamo anticipato ci sono dei vantaggi nell'utilizzo degli array numpy invece delle liste: banalmente guardiamo qualche operazione!"
   ]
  },
  {
   "cell_type": "code",
   "execution_count": 32,
   "id": "c2aa5526-8bf2-4975-9031-59d6f5d81abd",
   "metadata": {},
   "outputs": [
    {
     "ename": "TypeError",
     "evalue": "can only concatenate list (not \"int\") to list",
     "output_type": "error",
     "traceback": [
      "\u001b[0;31m---------------------------------------------------------------------------\u001b[0m",
      "\u001b[0;31mTypeError\u001b[0m                                 Traceback (most recent call last)",
      "Cell \u001b[0;32mIn[32], line 7\u001b[0m\n\u001b[1;32m      5\u001b[0m \u001b[38;5;66;03m#voglio sommare ad ogni elemento della lista/array un numero\u001b[39;00m\n\u001b[1;32m      6\u001b[0m a1 \u001b[38;5;241m=\u001b[39m a0 \u001b[38;5;241m+\u001b[39m \u001b[38;5;241m2\u001b[39m\n\u001b[0;32m----> 7\u001b[0m l1 \u001b[38;5;241m=\u001b[39m \u001b[43ml0\u001b[49m\u001b[43m \u001b[49m\u001b[38;5;241;43m+\u001b[39;49m\u001b[43m \u001b[49m\u001b[38;5;241;43m2\u001b[39;49m\n\u001b[1;32m      8\u001b[0m \u001b[38;5;28mprint\u001b[39m(a1,l1)\n",
      "\u001b[0;31mTypeError\u001b[0m: can only concatenate list (not \"int\") to list"
     ]
    }
   ],
   "source": [
    "#definisco una lista e un array uguali\n",
    "a0 = np.arange(0,N)\n",
    "l0 = list(range(0,10))\n",
    "\n",
    "#voglio sommare ad ogni elemento della lista/array un numero\n",
    "a1 = a0 + 2\n",
    "l1 = l0 + 2\n",
    "print(a1,l1)   #cosa succede? ti da errore! questo perchè l'operazione di addizione non è possibile per le liste!"
   ]
  },
  {
   "cell_type": "code",
   "execution_count": 33,
   "id": "3a7dbb60-a147-4e0b-a94f-8f64685a0cdb",
   "metadata": {},
   "outputs": [
    {
     "name": "stdout",
     "output_type": "stream",
     "text": [
      "[ 2  3  4  5  6  7  8  9 10 11]\n"
     ]
    }
   ],
   "source": [
    "#proviamo solo con l'array\n",
    "a1 = a0 + 2\n",
    "print(a1)       #ha sommato tutti gli elementi per 2!"
   ]
  },
  {
   "cell_type": "code",
   "execution_count": 44,
   "id": "818fbc4a-f6fe-4515-87a9-cdfbac5e47dd",
   "metadata": {},
   "outputs": [
    {
     "name": "stdout",
     "output_type": "stream",
     "text": [
      "[-2 -1  0  1  2  3  4  5  6  7]\n",
      "[ 0  2  4  6  8 10 12 14 16 18]\n",
      "[0.  0.5 1.  1.5 2.  2.5 3.  3.5 4.  4.5]\n",
      "[ 0  1  4  9 16 25 36 49 64 81]\n",
      "[4 6 8]\n",
      "[0.84147098 0.90929743 0.14112001]\n",
      "[-0.9899925  -0.65364362  0.28366219]\n"
     ]
    }
   ],
   "source": [
    "#funziona per tutte le operazioni\n",
    "#sottrazione\n",
    "print(a0-2)\n",
    "\n",
    "#moltiplicazione\n",
    "print(a0*2)\n",
    "\n",
    "#divisione\n",
    "print(a0/2)\n",
    "\n",
    "#elevazione a potenza\n",
    "print(a0**2)\n",
    "\n",
    "#somma di array\n",
    "a = np.array([1,2,3])\n",
    "b = np.array([3,4,5])\n",
    "print(a+b)\n",
    "\n",
    "#seno e coseno\n",
    "print(np.sin(a))\n",
    "print(np.cos(b))"
   ]
  },
  {
   "cell_type": "markdown",
   "id": "7b8c6391-1fc9-44dc-bd35-675b4fa25214",
   "metadata": {},
   "source": [
    "### Attenzione quando copi gli array!\n",
    "\n",
    "Quando vuoi una copia di un array tieni in considerazione che definire un array uguale ad un altro non significa farne una copia, in quanto entrambe le tue variabili verranno indirizzate verso la stessa unità di memoria!"
   ]
  },
  {
   "cell_type": "code",
   "execution_count": 40,
   "id": "577830e7-43cf-46b5-8371-8e3a860df708",
   "metadata": {},
   "outputs": [
    {
     "name": "stdout",
     "output_type": "stream",
     "text": [
      "[1 2 3]\n"
     ]
    }
   ],
   "source": [
    "a = np.array([1,2,3])\n",
    "b = a    #b non è un nuovo array! bensì si riferisce allo stesso contenuto di a\n",
    "print(b)\n",
    "\n",
    "#se modifico b modifico anche a!"
   ]
  },
  {
   "cell_type": "markdown",
   "id": "b4eec33d-d7c3-4720-81f1-186f16414066",
   "metadata": {},
   "source": [
    "### Altre operazioni con numpy"
   ]
  },
  {
   "cell_type": "code",
   "execution_count": 46,
   "id": "22121698-7f1a-4504-a2d7-0fc744e0ae79",
   "metadata": {},
   "outputs": [
    {
     "name": "stdout",
     "output_type": "stream",
     "text": [
      "49\n",
      "0\n",
      "1225\n"
     ]
    }
   ],
   "source": [
    "array = np.arange(0,50)\n",
    "\n",
    "#massimo\n",
    "print(np.max(array))\n",
    "\n",
    "#minimo\n",
    "print(np.min(array))\n",
    "\n",
    "#somma \n",
    "print(np.sum(array))"
   ]
  },
  {
   "cell_type": "code",
   "execution_count": 51,
   "id": "cb87b993-2b71-4f68-a031-1ef5b77729fc",
   "metadata": {},
   "outputs": [
    {
     "name": "stdout",
     "output_type": "stream",
     "text": [
      "[ 7 11]\n",
      "[ 6 12]\n"
     ]
    }
   ],
   "source": [
    "#queste funzioni possono anche essere separate rispetto alle dimensioni: mettiamo caso che io voglia sommare solo le colonne di una matrice\n",
    "matrice = np.array([[2,4],[5,7]])\n",
    "max_col = np.sum(matrice, axis=0)\n",
    "print(max_col)\n",
    "\n",
    "#sommo le righe\n",
    "max_righe = np.sum(matrice, axis=1)\n",
    "print(max_righe)\n",
    "\n",
    "#questo parametro axis funziona anche con max, min.."
   ]
  },
  {
   "cell_type": "markdown",
   "id": "7e0e764e-8371-4cd7-86e6-37290872acbd",
   "metadata": {},
   "source": [
    "### Unire array"
   ]
  },
  {
   "cell_type": "code",
   "execution_count": 56,
   "id": "75e7d490-db27-4570-8551-2b64838b76f7",
   "metadata": {},
   "outputs": [
    {
     "name": "stdout",
     "output_type": "stream",
     "text": [
      "[[ 0  1  2  3  4]\n",
      " [10 11 12 13 14]]\n",
      "[ 0  1  2  3  4 10 11 12 13 14]\n"
     ]
    }
   ],
   "source": [
    "#come mettere insieme array differenti? si può fare sempre tenendo conto delle loro dimensioni!\n",
    "v1 = np.arange(0,5)\n",
    "v2 = np.arange(10,15)\n",
    "v_tot = np.vstack([v1,v2])\n",
    "print(v_tot)\n",
    "\n",
    "#in questo caso ha creato una matrice aggiungendo una riga!\n",
    "\n",
    "v_tot = np.hstack([v1,v2])\n",
    "print(v_tot)\n",
    "\n",
    "#in questo caso unisce tutto in modo che si abbia solo una riga"
   ]
  },
  {
   "cell_type": "markdown",
   "id": "b28867ae-5fce-4ac6-ad33-f3a90f1b3167",
   "metadata": {},
   "source": [
    "### Scaricare dati\n",
    "\n",
    "numpy ti da la possibilità di scaricare anche dati da file con diversi formati. Prendiamo in esempio un file '.txt' con una serie di numeri casuali."
   ]
  },
  {
   "cell_type": "code",
   "execution_count": 62,
   "id": "529c3fc7-f562-4b47-8d9e-8078a41db6fd",
   "metadata": {},
   "outputs": [
    {
     "name": "stdout",
     "output_type": "stream",
     "text": [
      "[[1.0000e+00 2.0000e+00 3.4000e+01 3.4000e+01 5.3200e+02 5.4530e+03\n",
      "  2.0000e+00 5.6000e+01]\n",
      " [3.0000e+00 5.0000e+00 6.0000e+00 3.0000e+00 5.6000e+01 4.0000e+00\n",
      "  3.0000e+00 6.7000e+01]\n",
      " [4.2300e+02 4.2355e+04 2.3150e+03 5.3600e+02 6.4300e+02 2.1000e+01\n",
      "  3.0000e+00 4.0000e+00]]\n"
     ]
    }
   ],
   "source": [
    "dati = np.loadtxt('data.txt', delimiter=',')\n",
    "print(dati)"
   ]
  },
  {
   "cell_type": "markdown",
   "id": "7e0c211a-eb80-4d4b-b12c-5018c4d9ab78",
   "metadata": {},
   "source": [
    "Ovviamente il file data.txt è stato creato da me. Importante tenere in conto che siccome il comando np.loadtxt salverà le informazioni del file in un array, queste informazioni devono avere dimensioni consone. In altre parole non posso avere array con differenti dimensioni all'interno del file."
   ]
  },
  {
   "cell_type": "markdown",
   "id": "76e3a0a3-04b8-4f3f-a194-62b6ac7ea207",
   "metadata": {},
   "source": [
    "### Booleani"
   ]
  },
  {
   "cell_type": "code",
   "execution_count": 65,
   "id": "65e31897-efa1-4766-9dfc-decf5d94d331",
   "metadata": {},
   "outputs": [
    {
     "name": "stdout",
     "output_type": "stream",
     "text": [
      "[False False False False False False  True  True  True  True  True  True\n",
      "  True  True  True  True  True  True  True  True]\n",
      "[False False False False False  True False False False False False False\n",
      " False False False False False False False False]\n"
     ]
    }
   ],
   "source": [
    "#Vediamo come gli array si comportano con i booleani\n",
    "a = np.arange(0,20)\n",
    "print(a>5)       #ho un array in cui ogni elemento viene sottoposto alla condizione a>5\n",
    "\n",
    "#nuova condizione\n",
    "print(a==5)"
   ]
  },
  {
   "cell_type": "markdown",
   "id": "308adc4b-9f2f-4c52-b381-e35159d76550",
   "metadata": {},
   "source": [
    "## Esercizio 1:\n",
    "1) trova tre nuovi comandi di numpy e crea una funzione qualsiasi che li implementi tutti e tre\n",
    "2) scrivi una funzione che prende in input un array di un numero e restituisca il fattoriale di quel numero\n",
    "3) Verificare che il prodotto tra una matrice e la sua inversa sia la matrice identità.\n",
    "\n",
    "## Esercizio 2: \n",
    "1) scrivere una funzione che prende in input il grado di un polinomio e i suoi parametri e calcola il suo valore\n",
    "2) scrivere una funzione che calcoli il determinante di una matrice "
   ]
  },
  {
   "cell_type": "markdown",
   "id": "921e5d4e-d348-4e76-98bc-926d002e93c2",
   "metadata": {},
   "source": [
    "### Sfida: Memory Game"
   ]
  },
  {
   "cell_type": "code",
   "execution_count": 8,
   "id": "d0df42e8-f50b-436e-aeca-cfae153ec385",
   "metadata": {},
   "outputs": [
    {
     "name": "stdout",
     "output_type": "stream",
     "text": [
      "Benvenuto a Blackjack!\n",
      "\n",
      "La tua mano: [('5', 'Cuori'), ('2', 'Picche')] - Punteggio: 7\n",
      "Mano del dealer: [('2', 'Fiori'), ('X', 'X')]\n"
     ]
    },
    {
     "name": "stdin",
     "output_type": "stream",
     "text": [
      "Vuoi pescare un'altra carta? (sì o no):  si\n"
     ]
    },
    {
     "name": "stdout",
     "output_type": "stream",
     "text": [
      "Hai pescato: ('3', 'Cuori')\n",
      "La tua mano: [('5', 'Cuori'), ('2', 'Picche'), ('3', 'Cuori')] - Punteggio: 10\n"
     ]
    },
    {
     "name": "stdin",
     "output_type": "stream",
     "text": [
      "Vuoi pescare un'altra carta? (sì o no):  si\n"
     ]
    },
    {
     "name": "stdout",
     "output_type": "stream",
     "text": [
      "Hai pescato: ('4', 'Quadri')\n",
      "La tua mano: [('5', 'Cuori'), ('2', 'Picche'), ('3', 'Cuori'), ('4', 'Quadri')] - Punteggio: 14\n"
     ]
    },
    {
     "name": "stdin",
     "output_type": "stream",
     "text": [
      "Vuoi pescare un'altra carta? (sì o no):  si\n"
     ]
    },
    {
     "name": "stdout",
     "output_type": "stream",
     "text": [
      "Hai pescato: ('3', 'Picche')\n",
      "La tua mano: [('5', 'Cuori'), ('2', 'Picche'), ('3', 'Cuori'), ('4', 'Quadri'), ('3', 'Picche')] - Punteggio: 17\n"
     ]
    },
    {
     "name": "stdin",
     "output_type": "stream",
     "text": [
      "Vuoi pescare un'altra carta? (sì o no):  no\n"
     ]
    },
    {
     "name": "stdout",
     "output_type": "stream",
     "text": [
      "Mano del dealer: [('2', 'Fiori'), ('8', 'Picche')] - Punteggio: 10\n",
      "Il dealer pesca: ('9', 'Quadri')\n",
      "Mano del dealer: [('2', 'Fiori'), ('8', 'Picche'), ('9', 'Quadri')] - Punteggio: 19\n",
      "Il dealer vince. Hai perso.\n"
     ]
    }
   ],
   "source": [
    "import random\n",
    "import time\n",
    "\n",
    "def initialize_memory_board():\n",
    "    numbers = list(range(1, 9)) * 2\n",
    "    random.shuffle(numbers)\n",
    "    board = [numbers[i * 4:(i + 1) * 4] for i in range(4)]\n",
    "    return board\n",
    "\n",
    "def print_board(board, revealed):\n",
    "    for i in range(4):\n",
    "        for j in range(4):\n",
    "            if revealed[i][j]:\n",
    "                print(board[i][j], end=\" \")\n",
    "            else:\n",
    "                print(\"X\", end=\" \")\n",
    "        print()\n",
    "\n",
    "def memory_game():\n",
    "    board = initialize_memory_board()\n",
    "    revealed = [[False] * 4 for _ in range(4)]\n",
    "    attempts = 0\n",
    "    pairs_found = 0\n",
    "\n",
    "    print(\"Benvenuto a Memory Game! Trova tutte le coppie.\")\n",
    "    while pairs_found < 8:\n",
    "        print_board(board, revealed)\n",
    "\n",
    "        try:\n",
    "            row1 = int(input(\"Scegli la prima riga (0-3): \"))\n",
    "            col1 = int(input(\"Scegli la prima colonna (0-3): \"))\n",
    "            row2 = int(input(\"Scegli la seconda riga (0-3): \"))\n",
    "            col2 = int(input(\"Scegli la seconda colonna (0-3): \"))\n",
    "            \n",
    "            if revealed[row1][col1] or revealed[row2][col2]:\n",
    "                print(\"Hai già trovato queste posizioni!\")\n",
    "                continue\n",
    "            if row1 == row2 and col1 == col2:\n",
    "                print(\"Le posizioni devono essere diverse!\")\n",
    "                continue\n",
    "\n",
    "            attempts += 1\n",
    "            revealed[row1][col1] = True\n",
    "            revealed[row2][col2] = True\n",
    "            print_board(board, revealed)\n",
    "            \n",
    "            if board[row1][col1] == board[row2][col2]:\n",
    "                print(\"Coppia trovata!\")\n",
    "                pairs_found += 1\n",
    "            else:\n",
    "                print(\"Non è una coppia.\")\n",
    "                revealed[row1][col1] = False\n",
    "                revealed[row2][col2] = False\n",
    "                time.sleep(2)\n",
    "\n",
    "        except (ValueError, IndexError):\n",
    "            print(\"Input non valido. Riprova.\")\n",
    "    \n",
    "    print(f\"Complimenti! Hai trovato tutte le coppie in {attempts} tentativi.\")\n",
    "\n",
    "memory_game()\n"
   ]
  },
  {
   "cell_type": "code",
   "execution_count": null,
   "id": "8339b814-6ebd-4f26-b1aa-efbc4d571ede",
   "metadata": {},
   "outputs": [],
   "source": []
  }
 ],
 "metadata": {
  "kernelspec": {
   "display_name": "Python 3 (ipykernel)",
   "language": "python",
   "name": "python3"
  },
  "language_info": {
   "codemirror_mode": {
    "name": "ipython",
    "version": 3
   },
   "file_extension": ".py",
   "mimetype": "text/x-python",
   "name": "python",
   "nbconvert_exporter": "python",
   "pygments_lexer": "ipython3",
   "version": "3.8.9"
  }
 },
 "nbformat": 4,
 "nbformat_minor": 5
}
