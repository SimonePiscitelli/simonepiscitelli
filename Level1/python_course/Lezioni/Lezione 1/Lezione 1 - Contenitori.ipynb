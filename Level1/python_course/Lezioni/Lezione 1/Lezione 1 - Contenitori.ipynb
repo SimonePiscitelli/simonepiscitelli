{
 "cells": [
  {
   "cell_type": "markdown",
   "id": "7bdf41b2-8a43-431d-bfc4-c9eb5a7fc196",
   "metadata": {},
   "source": [
    "## Contenitori"
   ]
  },
  {
   "cell_type": "markdown",
   "id": "56de3f88-4f0c-4f89-986c-e983e8fef6ab",
   "metadata": {},
   "source": [
    "In questa seconda lezione di python osserviamo vari tipi di 'contenitori', ovvero oggetti che possono racchiudere una moltitudine di elementi visti in precedenza (float, stringhe, ecc..). Questi contenitori hanno determinate caratteristiche e diverse proprietà associati a vantaggi e svantaggi che vedremo successivamente."
   ]
  },
  {
   "cell_type": "markdown",
   "id": "95381254-97fa-45d3-8c13-2e196f949ce4",
   "metadata": {},
   "source": [
    "### Liste"
   ]
  },
  {
   "cell_type": "markdown",
   "id": "991ca008-f782-44fd-bc09-bbc79d28247e",
   "metadata": {},
   "source": [
    "I primi contenitori che vediamo sono le liste, ma cosa sono? Le liste in Python rappresentano una struttura dati sequenziale che memorizza gli elementi in un determinato ordine, ammette duplicati e permette di modificare gli oggetti che contiene.\n",
    "\n",
    "Una lista viene definta tramite le parentesi quadre '[]' e si definisce al pari di una variabile"
   ]
  },
  {
   "cell_type": "code",
   "execution_count": 1,
   "id": "a257f022-791d-4908-a2a5-4cacbfda59aa",
   "metadata": {},
   "outputs": [],
   "source": [
    "lista = []"
   ]
  },
  {
   "cell_type": "markdown",
   "id": "6ad110f4-e95e-4da4-9f48-a775901813ef",
   "metadata": {},
   "source": [
    "In questo caso, ho definito una lista vuota; un pò come se avessi introdotto nel mio codice uno zaino in cui posso mettere oggetti differenti. Di questa lista se ne possono verificare le caratteristiche come lunghezza, tipo di oggetto e così via:"
   ]
  },
  {
   "cell_type": "code",
   "execution_count": 4,
   "id": "e240e807-4c80-4c0d-a98a-1a6d7dae0654",
   "metadata": {},
   "outputs": [
    {
     "name": "stdout",
     "output_type": "stream",
     "text": [
      "<class 'list'>\n",
      "0\n"
     ]
    }
   ],
   "source": [
    "#stampo il tipo di oggetto\n",
    "print(type(lista))\n",
    "\n",
    "#stampo la lunghezza della lista, ovvero il numero di elementi presenti\n",
    "print(len(lista))"
   ]
  },
  {
   "cell_type": "markdown",
   "id": "8fb3e4d8-1614-4ab8-b418-2207b6796cca",
   "metadata": {},
   "source": [
    "NOTA: se non l'avessi specificato in precedenza, le righe di codice che contengono '#' indicano dei commenti e appaiono in questo colore verde/azzurro. In questo caso, python non legge tali righe e non le considera codice. I commenti sono molto utili per descrivere cosa sta succedendo nel codice nel momento in cui lo si scrive."
   ]
  },
  {
   "cell_type": "markdown",
   "id": "e979793d-3f62-4413-988c-ffa529abf20a",
   "metadata": {},
   "source": [
    "Definiamo ora una lista con degli elementi e osserviamo le proprietà delle stesse."
   ]
  },
  {
   "cell_type": "code",
   "execution_count": 51,
   "id": "e268611f-bd4d-42a9-a5ff-f827e67b45ce",
   "metadata": {},
   "outputs": [
    {
     "name": "stdout",
     "output_type": "stream",
     "text": [
      "[1, 2, 3]\n"
     ]
    }
   ],
   "source": [
    "l = [1,2,3]\n",
    "\n",
    "print(l)"
   ]
  },
  {
   "cell_type": "markdown",
   "id": "e4f0ddba-73a9-4db5-8f12-0cfaaca6cbcd",
   "metadata": {},
   "source": [
    "#### Richiamare elementi dalle liste"
   ]
  },
  {
   "cell_type": "markdown",
   "id": "2ba43c57-8eeb-4ede-b868-b99def86f57e",
   "metadata": {},
   "source": [
    "La lista l in questione è composta da tre elementi. Questi elementi possono essere 'richiamati' singolarmente seguendo **l'indicizzazione** tipica delle liste. L'idea dell'indicizzazione consiste nell'assegnare un numero corrispondente all'elemento della lista stessa sulla base della loro posizione. L'indicizzazione delle liste comincia dalla posizione 0, pertano l'elemento numero 0 della lista sarà il primo elemento della stessa, ovvero, il numero 1."
   ]
  },
  {
   "cell_type": "code",
   "execution_count": 9,
   "id": "c956ca79-c197-4b2f-9ae6-e9be82aec0b6",
   "metadata": {},
   "outputs": [
    {
     "name": "stdout",
     "output_type": "stream",
     "text": [
      "primo_elemento: 1\n",
      "secondo_elemento: 2\n",
      "terzo_elemento: 3\n"
     ]
    }
   ],
   "source": [
    "#stampo singolarmente gli elementi della lista\n",
    "primo_elemento = l[0]\n",
    "secondo_elemento = l[1]\n",
    "terzo_elemento = l[2]\n",
    "\n",
    "print('primo_elemento: %i'%primo_elemento)\n",
    "print('secondo_elemento: %i'%secondo_elemento)\n",
    "print('terzo_elemento: %i'%terzo_elemento)"
   ]
  },
  {
   "cell_type": "markdown",
   "id": "12f17599-303c-4521-9b85-91795f614776",
   "metadata": {},
   "source": [
    "Come si può osservare, la sintassi per richiamare questi elementi consiste nell'utilizzare le parentesi quadre vicino al nome della lista. \n",
    "\n",
    "L'indicizzazione può anche servirsi dei numeri negativi, che in questo caso indicano la posizione degli elementi a partire da destra verso sinistra e partendo da -1"
   ]
  },
  {
   "cell_type": "code",
   "execution_count": 19,
   "id": "37bcb7ab-5396-4c0f-a27e-00bc0343fc80",
   "metadata": {},
   "outputs": [
    {
     "name": "stdout",
     "output_type": "stream",
     "text": [
      "primo_elemento: 1\n",
      "secondo_elemento: 2\n",
      "terzo_elemento: 3\n"
     ]
    }
   ],
   "source": [
    "#stampo singolarmente gli elementi della lista\n",
    "primo_elemento = l[-3]\n",
    "secondo_elemento = l[-2]\n",
    "terzo_elemento = l[-1]\n",
    "\n",
    "print('primo_elemento: %i'%primo_elemento)\n",
    "print('secondo_elemento: %i'%secondo_elemento)\n",
    "print('terzo_elemento: %i'%terzo_elemento)"
   ]
  },
  {
   "cell_type": "markdown",
   "id": "d98f6860-8699-4c74-b101-a2f0e5aa5638",
   "metadata": {},
   "source": [
    "è possibile richiamare più elementi assieme? Potrebbe essere utile dover considerare un sottoinsieme della lista in questione, perciò vediamo come fare. L'idea di base è quella di usare i ':' come separatore tra gli indici nel seguente modo"
   ]
  },
  {
   "cell_type": "code",
   "execution_count": 23,
   "id": "f1f5d929-4157-4b75-b60f-9089e04fb825",
   "metadata": {},
   "outputs": [
    {
     "name": "stdout",
     "output_type": "stream",
     "text": [
      "[1, 2]\n"
     ]
    }
   ],
   "source": [
    "primi_due_elementi = l[0:2]\n",
    "print(primi_due_elementi)"
   ]
  },
  {
   "cell_type": "markdown",
   "id": "a6ef5d9d-1053-48e5-b91c-7d0e4e3cdd33",
   "metadata": {},
   "source": [
    "da notare come python consideri l'elemento del primo indice (0) e non consideri l'elemento del secondo indice (2), stampando così solo i primi due. Allo stesso modo posso selezionare elemeneti da un punto di partenza in poi o fino ad un punto di arrivo"
   ]
  },
  {
   "cell_type": "code",
   "execution_count": 30,
   "id": "215e200f-0f01-46eb-867e-556fdce7fd74",
   "metadata": {},
   "outputs": [
    {
     "name": "stdout",
     "output_type": "stream",
     "text": [
      "[2, 3]\n",
      "[1]\n"
     ]
    }
   ],
   "source": [
    "#stampo dall'inice 1 in poi\n",
    "print(l[1:])\n",
    "\n",
    "#stampo fino all'indice 1\n",
    "print(l[:1])"
   ]
  },
  {
   "cell_type": "markdown",
   "id": "846ae653-b787-4c9f-ac20-57aaba8532c8",
   "metadata": {},
   "source": [
    "#### Aggiungere e rimuovere elementi dalle liste"
   ]
  },
  {
   "cell_type": "markdown",
   "id": "76c17465-6767-4678-b997-70b010ae9529",
   "metadata": {},
   "source": [
    "consideriamo la lista l e proviamo ad aggiungere e rimuovere elementi. Per farlo basta utilizzare funzioni pre impostate di python come 'append' e 'remove'"
   ]
  },
  {
   "cell_type": "code",
   "execution_count": 16,
   "id": "209ca074-17bb-46e0-8786-0b20d0579eeb",
   "metadata": {},
   "outputs": [
    {
     "name": "stdout",
     "output_type": "stream",
     "text": [
      "lista prima: [1, 2, 3]\n",
      "lista dopo: [1, 2, 3, 4]\n"
     ]
    }
   ],
   "source": [
    "l = [1,2,3]\n",
    "\n",
    "#stampo la lista prima di aggiungere\n",
    "print('lista prima: {}'.format(l))\n",
    "\n",
    "#aggiungo\n",
    "l.append(4)\n",
    "\n",
    "#stampo la lista dopo \n",
    "print('lista dopo: {}'.format(l))"
   ]
  },
  {
   "cell_type": "markdown",
   "id": "b4e18e38-2e7a-48c3-8ffa-bdc54033e93d",
   "metadata": {},
   "source": [
    "Da notare due particolarità di questo comando: come prima cosa il comando append aggiunge l'elemento alla fine della lista e in secondo piano se ripetessi il comando aggiungerebbe il numero 4 tante volte quanto lo ripeto"
   ]
  },
  {
   "cell_type": "code",
   "execution_count": 15,
   "id": "868ba98e-11d7-4492-99c2-db431c0adf31",
   "metadata": {},
   "outputs": [
    {
     "name": "stdout",
     "output_type": "stream",
     "text": [
      "lista prima: [1, 2, 3, 4]\n",
      "lista dopo: [1, 2, 3]\n"
     ]
    }
   ],
   "source": [
    "#stampo la lista prima di aggiungere\n",
    "print('lista prima: {}'.format(l))\n",
    "\n",
    "#aggiungo\n",
    "l.remove(4)\n",
    "\n",
    "#stampo la lista dopo \n",
    "print('lista dopo: {}'.format(l))"
   ]
  },
  {
   "cell_type": "markdown",
   "id": "a0d4992e-0cf0-49b5-9fda-6c20fc6b1c50",
   "metadata": {},
   "source": [
    "in questo caso il comando remove elimina il valore 4 dalla lista. Ma posso eliminare un valore basandomi sull'indicizzazione?"
   ]
  },
  {
   "cell_type": "code",
   "execution_count": 17,
   "id": "8acf5f3c-1161-4005-915d-77099eed66e3",
   "metadata": {},
   "outputs": [
    {
     "name": "stdout",
     "output_type": "stream",
     "text": [
      "lista prima: [1, 2, 3, 4]\n",
      "lista dopo: [2, 3, 4]\n"
     ]
    }
   ],
   "source": [
    "#stampo la lista prima di aggiungere\n",
    "print('lista prima: {}'.format(l))\n",
    "\n",
    "#aggiungo\n",
    "l.remove(l[0])\n",
    "\n",
    "#stampo la lista dopo \n",
    "print('lista dopo: {}'.format(l))"
   ]
  },
  {
   "cell_type": "markdown",
   "id": "cb0cef0b-1724-4c94-a91b-aee1379a00d5",
   "metadata": {},
   "source": [
    "come si vede da questo esempio è possibile indicare l'indice dell'elemento che rimuovo se magari non conosco il valore in una lista molto lunga ma ne conosco la posizione.\n",
    "\n",
    "Ma se invece volessi aggiungere un oggetto in una posizione che non sia l'ultima? Posso usare il comando 'insert', dove devo indicare l'indice corrispondente alla posizione occupata dall'oggetto che voglio aggiungere e l'oggetto stesso"
   ]
  },
  {
   "cell_type": "code",
   "execution_count": 42,
   "id": "09032914-37f0-4640-9fbe-3fb4512bee2a",
   "metadata": {},
   "outputs": [
    {
     "name": "stdout",
     "output_type": "stream",
     "text": [
      "[1, 'Andrea', 2, 3]\n"
     ]
    }
   ],
   "source": [
    "#definisco una stringa da aggiungere\n",
    "nuova_stringa = 'Andrea'\n",
    "\n",
    "#inserisco il nuovo elemento\n",
    "l.insert(1, nuova_stringa)\n",
    "\n",
    "#stampo\n",
    "print(l)"
   ]
  },
  {
   "cell_type": "markdown",
   "id": "42627f87-6170-450d-ae96-32c08fe6a846",
   "metadata": {},
   "source": [
    "Da notare come le liste possano contenere differenti tipi di oggetti. In questo caso si è aggiunta una stringa ad una serie di numeri.\n",
    "\n",
    "Gli elementi delle liste possono anche essere sostituiti. Essendo semplici variabili basta ridefinirle."
   ]
  },
  {
   "cell_type": "code",
   "execution_count": 52,
   "id": "f8a1cf3c-6df5-413f-8e33-48036c59a3cc",
   "metadata": {},
   "outputs": [
    {
     "name": "stdout",
     "output_type": "stream",
     "text": [
      "[1, 2, 3]\n",
      "['nuovo elemento', 2, 3]\n"
     ]
    }
   ],
   "source": [
    "#elemento 0 prima\n",
    "print(l)\n",
    "\n",
    "#sostituisco\n",
    "l[0] = 'nuovo elemento'\n",
    "\n",
    "#elemento 0 dopo\n",
    "print(l)"
   ]
  },
  {
   "cell_type": "markdown",
   "id": "83553281-95dc-4310-9630-d035b86b355c",
   "metadata": {},
   "source": [
    "#### funzione 'list'"
   ]
  },
  {
   "cell_type": "markdown",
   "id": "4886814a-503f-4868-8500-f0126527a333",
   "metadata": {},
   "source": [
    "le parentesi quadre non sono il solo modo di definire una lista. In python esiste la funzione list che crea liste in modo più veloce. Ad esempio, creare una lista di valori fino al numero 25 può essere noioso da fare automaticamente; usiamo la funzione list."
   ]
  },
  {
   "cell_type": "code",
   "execution_count": 46,
   "id": "7aff6e25-8940-4c64-9690-3f338ad508a8",
   "metadata": {},
   "outputs": [
    {
     "name": "stdout",
     "output_type": "stream",
     "text": [
      "[0, 1, 2, 3, 4, 5, 6, 7, 8, 9, 10, 11, 12, 13, 14, 15, 16, 17, 18, 19, 20, 21, 22, 23, 24]\n"
     ]
    }
   ],
   "source": [
    "#creo la lista\n",
    "l = list(range(25))\n",
    "print(l)"
   ]
  },
  {
   "cell_type": "markdown",
   "id": "4facec2f-0cd5-4067-a52d-209ab01dde2b",
   "metadata": {},
   "source": [
    "In questo caso abbiamo anche utilizzato la funzione range che consente di iterare il processo di generazione dei numeri.\n",
    "\n",
    "Finiamo la sezione sulle liste con due funzioni interessanti che consentono di ordinarle: la funzione reverse che consente di invertire l'ordine degli elementi delle liste e la funzione sort che li ordina in ordine crescente."
   ]
  },
  {
   "cell_type": "code",
   "execution_count": 56,
   "id": "78dc3bad-026f-4c77-8937-033682522683",
   "metadata": {},
   "outputs": [
    {
     "name": "stdout",
     "output_type": "stream",
     "text": [
      "[3, 2, 1]\n",
      "[1, 2, 3]\n"
     ]
    }
   ],
   "source": [
    "l = [1,2,3]\n",
    "\n",
    "#inverto\n",
    "l.reverse()\n",
    "print(l)\n",
    "\n",
    "#riordino\n",
    "l.sort()\n",
    "print(l)"
   ]
  },
  {
   "cell_type": "markdown",
   "id": "99d2f65d-77ea-4bfe-b110-db08a7dfebf5",
   "metadata": {},
   "source": [
    "### Sets"
   ]
  },
  {
   "cell_type": "markdown",
   "id": "be426945-e5b1-4045-89e4-777e716dbdc5",
   "metadata": {},
   "source": [
    "Introduciamo un nuovo tipo di contenitori: i set. I set (insiemi) sono una collezione non ordinata di elementi senza ripetizioni. Essi si definiscono con una sintassi pre impostata in python."
   ]
  },
  {
   "cell_type": "code",
   "execution_count": 2,
   "id": "819775b2-3f01-4bf1-bedd-6d89df3fc20c",
   "metadata": {},
   "outputs": [
    {
     "name": "stdout",
     "output_type": "stream",
     "text": [
      "{2, 3}\n"
     ]
    }
   ],
   "source": [
    "s = set()\n",
    "s.add(2)\n",
    "s.add(3)\n",
    "s.add(2)\n",
    "\n",
    "print(s)"
   ]
  },
  {
   "cell_type": "markdown",
   "id": "3aea2bcb-26c9-4d7e-a7a8-a4a0af59912a",
   "metadata": {},
   "source": [
    "Come si vede nell'esempio dopo aver definito il set è possibile aggiungere elementi tramite il comando 'add'. Aggiungere un elemento uguale (nel nostro caso il 2) non ha effetto sull'insieme.\n",
    "\n",
    "Un insieme può anche essere definito tramite le parentesi graffe '{}'."
   ]
  },
  {
   "cell_type": "code",
   "execution_count": 5,
   "id": "bb8ab7f3-61ca-462a-a53e-e0251b3b27ba",
   "metadata": {},
   "outputs": [
    {
     "name": "stdout",
     "output_type": "stream",
     "text": [
      "{1, 2, 'andrea'}\n",
      "<class 'set'>\n"
     ]
    }
   ],
   "source": [
    "A = {1,2,'andrea'}\n",
    "print(A)\n",
    "print(type(A))"
   ]
  },
  {
   "cell_type": "markdown",
   "id": "e207049f-4e96-4ee7-9776-49285b509ba8",
   "metadata": {},
   "source": [
    "Essendo i set degli insiemi è possibile svolgere alcune operazioni tra insiemi. Vediamo quali"
   ]
  },
  {
   "cell_type": "code",
   "execution_count": 9,
   "id": "d033b78c-ecf6-4e7f-aa19-17f6f1f63505",
   "metadata": {},
   "outputs": [
    {
     "name": "stdout",
     "output_type": "stream",
     "text": [
      "{3}\n",
      "{1, 2}\n",
      "{1, 2, 3, 4, 5}\n"
     ]
    }
   ],
   "source": [
    "#definisco dei nuovi insiemi\n",
    "A = {1,2,3}\n",
    "B = {3,4,5}\n",
    "\n",
    "#intersezione tra due insiemi: insieme costituito da elementi comuni\n",
    "intersection = A.intersection(B)\n",
    "print(intersection)\n",
    "\n",
    "#differenza tra due insiemi: insieme costituito da elemeni del primo senza gli elementi del secondo\n",
    "difference = A.difference(B)\n",
    "print(difference)\n",
    "\n",
    "#unione tra insiemi: insieme costituito da elementi del primo e del secondo ripetuti una volta\n",
    "union = A.union(B)\n",
    "print(union)"
   ]
  },
  {
   "cell_type": "markdown",
   "id": "61becaa3-ad75-4246-ae18-1a90691f09ff",
   "metadata": {},
   "source": [
    "In utlima analisi vediamo come eliminare e svuotare gli insiemi"
   ]
  },
  {
   "cell_type": "code",
   "execution_count": 12,
   "id": "698b710f-bea4-4b6e-a011-3c3b349c9e80",
   "metadata": {},
   "outputs": [
    {
     "name": "stdout",
     "output_type": "stream",
     "text": [
      "{2, 3}\n",
      "set()\n"
     ]
    }
   ],
   "source": [
    "#scarto un elemento\n",
    "A.discard(1)\n",
    "print(A)\n",
    "\n",
    "#svuoto l'insieme\n",
    "A.clear()\n",
    "print(A)"
   ]
  },
  {
   "cell_type": "markdown",
   "id": "ea16ba71-43ec-4313-9f50-dadb61b17d99",
   "metadata": {},
   "source": [
    "### Dizionari"
   ]
  },
  {
   "cell_type": "markdown",
   "id": "8cbdd690-0f0c-4bfe-b956-fc186df4497d",
   "metadata": {},
   "source": [
    "Tra i contenitori sono particolarmente unici i dizionari. I dizionari sono insiemi di coppie di elementi; ogni coppia è formata da una **chiave** e un **argomento** che possono essere richiamati singolarmente.\n",
    "\n",
    "Allo stesso modo degli insiemi è possibile usare le parentesi graffe per definire un dizionario. La differenza è che vanno definite chiavi e argomenti separati dai due punti. Un classico esempio è quello di definire un ricettario le cui chiavi sono le pizze e argomenti sono gli ingredienti:"
   ]
  },
  {
   "cell_type": "code",
   "execution_count": 15,
   "id": "099bc8e2-21fb-4472-8b9b-66507caa8cef",
   "metadata": {},
   "outputs": [],
   "source": [
    "ricettario = {'margherita' : ['pomodoro','mozzarella','basilico'], 'marinara' : ['pomodoro','aglio','origano'],\\\n",
    "              'diavola' : ['pomodoro','mozzarella', 'salame' ]}"
   ]
  },
  {
   "cell_type": "markdown",
   "id": "3b2b373f-b8a1-404e-86a3-3c402b108ec6",
   "metadata": {},
   "source": [
    "come anticipato, nel ricettario le chiavi sono le pizze e gli argomenti sono liste che contengono gli ingredienti. Posso richiamare singolarmente gli argomenti conoscendone le chiavi"
   ]
  },
  {
   "cell_type": "code",
   "execution_count": 17,
   "id": "13168f5d-2cc7-4205-86ca-54e57df3ad19",
   "metadata": {},
   "outputs": [
    {
     "name": "stdout",
     "output_type": "stream",
     "text": [
      "['pomodoro', 'mozzarella', 'basilico']\n"
     ]
    }
   ],
   "source": [
    "print(ricettario['margherita'])"
   ]
  },
  {
   "cell_type": "markdown",
   "id": "0d1ac755-bc72-4430-9d86-0538a91f42e3",
   "metadata": {},
   "source": [
    "oppure posso richiamare tutte le chiavi o gli argomenti."
   ]
  },
  {
   "cell_type": "code",
   "execution_count": 23,
   "id": "4beb22bf-a127-49b5-bddb-e7c24cd75ab8",
   "metadata": {},
   "outputs": [
    {
     "name": "stdout",
     "output_type": "stream",
     "text": [
      "dict_keys(['margherita', 'marinara', 'diavola'])\n",
      "\t\n",
      "dict_values([['pomodoro', 'mozzarella', 'basilico'], ['pomodoro', 'aglio', 'origano'], ['pomodoro', 'mozzarella', 'salame']])\n",
      "\t\n",
      "dict_items([('margherita', ['pomodoro', 'mozzarella', 'basilico']), ('marinara', ['pomodoro', 'aglio', 'origano']), ('diavola', ['pomodoro', 'mozzarella', 'salame'])])\n",
      "\t\n"
     ]
    }
   ],
   "source": [
    "#richiamo le chiavi\n",
    "print(ricettario.keys())\n",
    "print('\\t')   #creo uno spazio\n",
    "\n",
    "#richiamo gli argomenti\n",
    "print(ricettario.values())\n",
    "print('\\t')\n",
    "\n",
    "#richiamo tutti gli elementi\n",
    "print(ricettario.items())\n",
    "print('\\t')\n"
   ]
  },
  {
   "cell_type": "markdown",
   "id": "b6812c29-57df-4ebc-902c-0f2cf7bb4bf2",
   "metadata": {},
   "source": [
    "Se invece volessi aggiungere un elemento al mio dizionario è possibile definirlo separatamente"
   ]
  },
  {
   "cell_type": "code",
   "execution_count": 24,
   "id": "bf934b5d-b705-49ff-ae33-260f44e280aa",
   "metadata": {},
   "outputs": [],
   "source": [
    "#definisco un nuovo elemento\n",
    "ricettario['capricciosa'] = ['pomodoro', 'mozzarella', 'prosciutto cotto', 'funghi', 'olive']\n",
    "print(ricettario)"
   ]
  },
  {
   "cell_type": "markdown",
   "id": "23cc2ee1-efd2-41ca-bd45-1d6f249337d4",
   "metadata": {},
   "source": [
    "si può facilmente notare che l'elemento è stato aggiunto al dizionario. Per rimuovere un elemento è necessario utilizzare **del** oppure **pop** facendo riferimento sempre alle chiavi."
   ]
  },
  {
   "cell_type": "code",
   "execution_count": 26,
   "id": "2afa59eb-ab94-465b-a77e-4c5545b2ba2d",
   "metadata": {},
   "outputs": [
    {
     "name": "stdout",
     "output_type": "stream",
     "text": [
      "{'margherita': ['pomodoro', 'mozzarella', 'basilico'], 'marinara': ['pomodoro', 'aglio', 'origano'], 'diavola': ['pomodoro', 'mozzarella', 'salame']}\n",
      "\t\n",
      "{'margherita': ['pomodoro', 'mozzarella', 'basilico'], 'diavola': ['pomodoro', 'mozzarella', 'salame']}\n",
      "\t\n"
     ]
    }
   ],
   "source": [
    "#elimino la capricciosa\n",
    "del ricettario['capricciosa']\n",
    "print(ricettario)\n",
    "print('\\t')\n",
    "\n",
    "#elimino la marinara\n",
    "ricettario.pop('marinara')\n",
    "print(ricettario)\n",
    "print('\\t')"
   ]
  },
  {
   "cell_type": "markdown",
   "id": "2233c022-3482-4428-ab6e-1c585bb43c44",
   "metadata": {},
   "source": [
    "### Sfida: Impiccato"
   ]
  },
  {
   "cell_type": "code",
   "execution_count": null,
   "id": "6801d654-b3be-410a-b4f3-9438c02f1701",
   "metadata": {},
   "outputs": [],
   "source": [
    "import pandas as pd\n",
    "import numpy as np\n",
    "\n",
    "dataset = pd.read_excel('Elenco-comuni-italiani.xlsx')\n",
    "comuni = np.asarray(dataset['Denominazione in italiano'])"
   ]
  },
  {
   "cell_type": "code",
   "execution_count": null,
   "id": "9f63e448-8d4f-451e-b40d-d9947218f5a1",
   "metadata": {},
   "outputs": [],
   "source": [
    "#versione con tentativi illimitati\n",
    "index = int(np.random.uniform(0,len(comuni)))\n",
    "parola = comuni[index]\n",
    "indovina = [\"_\"] * len(parola)\n",
    "\n",
    "while \"_\" in indovina:\n",
    "    lettera = input(\"Inserisci una lettera: \")\n",
    "    if lettera in parola:\n",
    "        for i in range(len(parola)):\n",
    "            if parola[i] == lettera:\n",
    "                indovina[i] = lettera\n",
    "    print(\"\".join(indovina))\n",
    "print(\"Hai indovinato!\")"
   ]
  },
  {
   "cell_type": "code",
   "execution_count": null,
   "id": "ba68aece-a8bc-4724-b90a-b5a9579efbec",
   "metadata": {},
   "outputs": [],
   "source": [
    "#versione con tentativi limitati\n",
    "index = int(np.random.uniform(0,len(comuni)))\n",
    "parola = comuni[index]\n",
    "indovina = [\"_\"] * len(parola)\n",
    "failed_guess = 0\n",
    "tentativi = 3\n",
    "\n",
    "while \"_\" in indovina:\n",
    "    lettera = input(\"Inserisci una lettera: \")\n",
    "    if lettera in parola:\n",
    "        for i in range(len(parola)):\n",
    "            if parola[i] == lettera:\n",
    "                indovina[i] = lettera\n",
    "    else: \n",
    "        failed_guess += tentativi\n",
    "        if failed_guess == 1:\n",
    "            print('Mi spiace hai perso!')\n",
    "            break\n",
    "\n",
    "    parola_finale = \"\".join(indovina)\n",
    "    if parola_finale == parola:\n",
    "        print('complimenti hai vinto!')\n",
    "        break\n",
    "    print(\"\".join(indovina))\n",
    "   "
   ]
  },
  {
   "cell_type": "code",
   "execution_count": null,
   "id": "01b88e14-1780-448a-b3d1-1d836905b75b",
   "metadata": {},
   "outputs": [],
   "source": []
  }
 ],
 "metadata": {
  "kernelspec": {
   "display_name": "Python 3 (ipykernel)",
   "language": "python",
   "name": "python3"
  },
  "language_info": {
   "codemirror_mode": {
    "name": "ipython",
    "version": 3
   },
   "file_extension": ".py",
   "mimetype": "text/x-python",
   "name": "python",
   "nbconvert_exporter": "python",
   "pygments_lexer": "ipython3",
   "version": "3.8.9"
  }
 },
 "nbformat": 4,
 "nbformat_minor": 5
}
