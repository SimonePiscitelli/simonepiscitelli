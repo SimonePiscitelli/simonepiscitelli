{
 "cells": [
  {
   "cell_type": "markdown",
   "id": "f51e4ce8-6b67-483e-ae2c-47401be56018",
   "metadata": {},
   "source": [
    "## Funzioni e Classi"
   ]
  },
  {
   "cell_type": "markdown",
   "id": "504125d4-54a3-4257-bb68-c00649b39f03",
   "metadata": {},
   "source": [
    "### Funzioni\n",
    "\n",
    "In questa lezione affrontiamo una parte fondamentale della programmazione in python: ovvero funzioni e classi! Per prima cosa capiamo cosa sono le funzioni. In matematica una funzione è una corrispondenza tra insiemi, ovvero una vera e propria combinazione di operazioni che trasformano un elemento di un insieme A in un elemente di un insieme B. Come traduciamo questo concetto nella programmazione? Beh, l'idea è sempre la stessa rispetto alla matematica, dove si definisce un nome per la funzione e una serie di *parametri* che saranno gli elementi da trasformare.\n",
    "\n",
    "Nell'esempio seguente definiamo una funzione che calcoli la lunghezza di una circonferenza al variare del raggio. Dalla matematica sappiamo che \n",
    "\\begin{equation}\n",
    "    C = 2\\pi r\n",
    "\\end{equation}\n",
    "\n",
    "dove $r$ è proprio il raggio. Si direbbe una funzione!"
   ]
  },
  {
   "cell_type": "code",
   "execution_count": 3,
   "id": "c52e2658-7fcf-4038-97c9-24b0b9c46f26",
   "metadata": {},
   "outputs": [
    {
     "data": {
      "text/plain": [
       "12.56"
      ]
     },
     "execution_count": 3,
     "metadata": {},
     "output_type": "execute_result"
    }
   ],
   "source": [
    "def circonferenza(r):\n",
    "    pi = 3.14\n",
    "    return 2*pi*r\n",
    "\n",
    "r = 2\n",
    "circonferenza(r)"
   ]
  },
  {
   "cell_type": "markdown",
   "id": "05f97060-796a-4202-9908-80222b1da1d8",
   "metadata": {},
   "source": [
    "Fatto! Nel codice precedente si è definita la funzione *circonferenza* utilizzando **def**. In parentesi vengono piazzati i parametri che costituiscono l'input esterno della funzione. In questo caso, voglio scegliere quale raggio dare alla mia funzione, di conseguenza è preferibile definirlo come parametro. Il raggio è proprio l'elemento dell'insieme A. \n",
    "\n",
    "Il pi greco invece è una costante, di conseguenza è qualcosa che conviene definire internamente alla funzione. Importante sottolineare che le variabili definite all'interno della funzione non sono riconosciute all'esterno. Si vede che la seguente stringa deve restituire un errore"
   ]
  },
  {
   "cell_type": "code",
   "execution_count": null,
   "id": "14543291-6a2b-4802-b8e7-3200c67c1990",
   "metadata": {},
   "outputs": [],
   "source": [
    "print(pi)"
   ]
  },
  {
   "cell_type": "markdown",
   "id": "d405b58e-989e-4dea-b7ee-aa65915fb9a4",
   "metadata": {},
   "source": [
    "Ancora, la funzione viene 'chiusa' dalla stringa return che ne definisce l'output. In questo caso l'output sarà proprio il calcolo della circonferenza.\n",
    "\n",
    "Per *richiamare* la funzione, ovvero per osservarne il comportamento è necessario definire i parametri in input e poi vederne il risultato tramite la dicitura *funzione(x)* come nell'esempio precedente. \n",
    "\n",
    "Ma quanti parametri posso utilizzare? In teoria infiniti! Vediamo un esempio di funzione più complicata in cui calcoliamo la superfice laterale di un cilindro di altezza $h$ e raggio $r$. La formula in questione è\n",
    "\\begin{equation}\n",
    "    S = 2\\pi r h\n",
    "\\end{equation}"
   ]
  },
  {
   "cell_type": "code",
   "execution_count": 7,
   "id": "52b3737b-d450-4d02-ab73-45d7bb7f1afd",
   "metadata": {},
   "outputs": [
    {
     "data": {
      "text/plain": [
       "37.68"
      ]
     },
     "execution_count": 7,
     "metadata": {},
     "output_type": "execute_result"
    }
   ],
   "source": [
    "def superifice_cilindro(r,h):\n",
    "    pi = 3.14\n",
    "    return 2*pi*r*h\n",
    "\n",
    "r = 2\n",
    "h = 3\n",
    "\n",
    "superifice_cilindro(r,h)"
   ]
  },
  {
   "cell_type": "markdown",
   "id": "537c5d07-516f-4baa-8790-164789b8c6f3",
   "metadata": {},
   "source": [
    "dove stavolta gli argomenti della funzione sono due"
   ]
  },
  {
   "cell_type": "markdown",
   "id": "e4bbeccc-4e54-4e36-bca4-a06567198a31",
   "metadata": {},
   "source": [
    "### Classi"
   ]
  },
  {
   "cell_type": "markdown",
   "id": "6e5c7096-7fc3-4180-8030-d457f011dcf6",
   "metadata": {},
   "source": [
    "A questo punto, spostiamo l'attenzione sulle classi. Le classi sono costrutti simili alle funzioni ma più ampi. Si può dire che siano insiemi di funzioni i cui oggetti vengono definiti al loro interno. Le funzioni definite all'interno prendono il nome di **metodi**. Le classi vengono utilizzate per costruire oggetti complessi che necessitano di differenti operazioni che avvengono tramite le funzioni. Questi oggetti mantengono la stessa struttura di base e subiscono delle modifiche sulla base dei parametri dati alla classe.\n",
    "\n",
    "Un buon esempio è quello di generare una classe che costituisca la struttura di un menù di un ristorante. Tutti i menù devono avere più o meno le stesse cose, ovvero cibo, bevande, prezzi, dolci, informazioni sul ristorante e così via.\n",
    "\n",
    "Prima di iniziare, spieghiamo brevemente il principio di funzionamento delle classi. Le classi si basano sulla definizione di una **istanza**, ovvero una funzione che definisce le caratteristiche basilari dell'oggetto.\n",
    "\n",
    "Vediamo come fare"
   ]
  },
  {
   "cell_type": "code",
   "execution_count": 9,
   "id": "6e6df1ea-6a82-46a9-abad-0fcd0d2bba23",
   "metadata": {},
   "outputs": [],
   "source": [
    "class menu:\n",
    "    def __init__(self, categoria, ingredienti,prezzo):\n",
    "        self.categoria = categoria\n",
    "        self.ingredienti = ingredienti\n",
    "        self.prezzo = prezzo\n",
    "\n",
    "    def piatto(self):\n",
    "        dish = {}\n",
    "\n",
    "        dish['categoria'] = self.categoria\n",
    "        dish['integrenti'] = self.categoria\n",
    "        dish['prezzo'] = self.categoria\n",
    "\n",
    "        return dish"
   ]
  },
  {
   "cell_type": "code",
   "execution_count": 17,
   "id": "820fd126-6fd1-43e3-a184-90ef82e2a20c",
   "metadata": {},
   "outputs": [
    {
     "data": {
      "text/plain": [
       "{'categoria': 'antipasto', 'integrenti': 'antipasto', 'prezzo': 'antipasto'}"
      ]
     },
     "execution_count": 17,
     "metadata": {},
     "output_type": "execute_result"
    }
   ],
   "source": [
    "mozzarella = menu('antipasto','mozzarella',7)\n",
    "mozzarella.piatto()"
   ]
  },
  {
   "cell_type": "markdown",
   "id": "2fd7ecf4-327d-4e63-a44c-176df6f71e4c",
   "metadata": {},
   "source": [
    "In questo esempio abbiamo creato una classe menù. In questa classe abbiamo definito il metodo **__init__** che corrisponde all'istanza, in cui vengono definite le caratteristiche principali. In particolare ci interessa la cateogoria di un piatto, gli ingredienti e il prezzo.\n",
    "\n",
    "All'interno di questa classe abbiamo definito un metodo, ovvero il metodo 'piatto'. Questa funzione consente di richiamare i parametri definito in init ed usarli per creare un dizionario in cui vengono visualizzate le informazioni principali. In questo modo posso vedere da cosa è fatto il piatto.\n",
    "\n",
    "per richiamare questa funzione innanzitutto va creato l'oggetto, in questo caso la mozzarella. L'oggetto viene creato inserendo i parametri principali. Il metodo viene richiamato tramite mozzarella.piatto().\n",
    "\n",
    "Aggiungiamo qualche altro metodo per capire l'utilità delle classi"
   ]
  },
  {
   "cell_type": "code",
   "execution_count": 80,
   "id": "17384a21-043d-4ff9-8ceb-50c5928c47ed",
   "metadata": {},
   "outputs": [],
   "source": [
    "class menu:\n",
    "    def __init__(self, categoria, ingredienti,prezzo):\n",
    "        self.categoria = categoria\n",
    "        self.ingredienti = ingredienti\n",
    "        self.prezzo = prezzo\n",
    "\n",
    "    def piatto(self):\n",
    "        dish = {}\n",
    "        dish['categoria'] = self.categoria\n",
    "        dish['ingredienti'] = self.ingredienti\n",
    "        dish['prezzo'] = self.prezzo\n",
    "        return dish\n",
    "\n",
    "    def allergeni(self,allergene,dizionario):\n",
    "        if allergene in dizionario['ingredienti']:\n",
    "            return 'Questo piatto non va bene!'\n",
    "        else:\n",
    "            return 'Puoi mangiare questo piatto'"
   ]
  },
  {
   "cell_type": "code",
   "execution_count": 81,
   "id": "aa5c75a4-2918-4fd7-b33e-3b7633b22d62",
   "metadata": {},
   "outputs": [],
   "source": [
    "mozzarella = menu('antipasto','mozzarella',7)\n",
    "carbonara = menu('primi piatti',['guanciale','uova','pecorino'], 12)\n",
    "\n"
   ]
  },
  {
   "cell_type": "code",
   "execution_count": 84,
   "id": "39efe3c1-d14f-456f-ac44-6252de960e3c",
   "metadata": {},
   "outputs": [
    {
     "name": "stdout",
     "output_type": "stream",
     "text": [
      "Questo piatto non va bene!\n",
      "Puoi mangiare questo piatto\n"
     ]
    }
   ],
   "source": [
    "#definisco il dizionario della carbonara\n",
    "d = carbonara.piatto()\n",
    "\n",
    "#utilizzo il metodo allergeni per vedere se posso mangiare il piatto\n",
    "print(carbonara.allergeni('uova',d))\n",
    "print(carbonara.allergeni('nocciole',d))"
   ]
  },
  {
   "cell_type": "markdown",
   "id": "72514f4e-46ec-412f-b18f-7f98d3add39d",
   "metadata": {},
   "source": [
    "### Esercizio 1\n",
    "- Scrivi una funzione che prende una lista di parole e restituisce una lista contenente solo le parole che iniziano con una lettera specificata.\n",
    "- Scrivi una funzione che prende una lista di parole e restituisce la parola più lunga.\n",
    "- Scrivi una funzione che prende una lista di numeri e restituisce una lista contenente solo i numeri maggiori di un valore specificato."
   ]
  },
  {
   "cell_type": "markdown",
   "id": "2c62f3a5-fc31-4e9d-b79e-bd00a2d223ee",
   "metadata": {},
   "source": [
    "### Esercizio 2\n",
    "- Creare una classe Animale che abbia gli attributi “nome” e “specie”. Aggiungi un metodo “emetti_suono” che stampi un suono specifico per ogni specie. Ad esempio, se l’animale è un gatto dovrebbe stampare “Miao!”, se è un cane “Bau!”.\n",
    "- Crea una classe GestoreMagazzino che gestisca un magazzino di prodotti. \\\n",
    "   La classe dovrà avere i seguenti attributi:\n",
    "    - Un dizionario “prodotti” che mappa i nomi dei prodotti ai rispettivi oggetti “Prodotto” (che descriverai in seguito)\n",
    "    - Una variabile “costo_magazzinaggio” che indica il costo per magazzinare ogni prodotto per un mese \\\n",
    "   La classe dovrà avere i seguenti metodi: \n",
    "    - Un metodo “aggiungi_prodotto” che aggiunga un nuovo prodotto al magazzino\n",
    "    - Un metodo “rimuovi_prodotto” che rimuova un prodotto dal magazzino\n",
    "    - Un metodo “calcola_costi_magazzinaggio” che calcoli i costi di magazzinaggio per tutti i prodotti presenti nel magazzino \\\n",
    "  Crea inoltre una classe Prodotto che abbia gli attributi “nome”, “prezzo” e “scorta”."
   ]
  },
  {
   "cell_type": "markdown",
   "id": "e93dc128-9611-4d11-ba04-6faa79586a08",
   "metadata": {},
   "source": [
    "### Sfida: Battaglia Navale"
   ]
  },
  {
   "cell_type": "code",
   "execution_count": null,
   "id": "bc98cf4f-a361-41ec-a9b4-77a373a20c4f",
   "metadata": {},
   "outputs": [],
   "source": [
    "import random\n",
    "\n",
    "# Dimensione della griglia\n",
    "GRID_SIZE = 5\n",
    "# Numero di navi\n",
    "NUM_SHIPS = 3\n",
    "\n",
    "# Crea una griglia vuota\n",
    "def create_grid(size):\n",
    "    return [[\"O\"] * size for _ in range(size)]\n",
    "\n",
    "# Stampa la griglia\n",
    "def print_grid(grid, hide_ships=True):\n",
    "    for row in grid:\n",
    "        print(\" \".join(row))\n",
    "    print()\n",
    "\n",
    "# Posiziona le navi sulla griglia in posizioni casuali\n",
    "def place_ships(grid, num_ships):\n",
    "    ships = []\n",
    "    while len(ships) < num_ships:\n",
    "        row = random.randint(0, GRID_SIZE - 1)\n",
    "        col = random.randint(0, GRID_SIZE - 1)\n",
    "        if (row, col) not in ships:\n",
    "            ships.append((row, col))\n",
    "            grid[row][col] = \"S\"  # Segna la nave (S) sulla griglia\n",
    "    return ships\n",
    "\n",
    "# Gioca una partita di battaglia navale\n",
    "def play_game():\n",
    "    print(\"Benvenuto a Battaglia Navale!\")\n",
    "    \n",
    "    # Crea la griglia e posiziona le navi\n",
    "    grid = create_grid(GRID_SIZE)\n",
    "    ships = place_ships(grid, NUM_SHIPS)\n",
    "    \n",
    "    # Crea una griglia per mostrare i colpi sparati\n",
    "    visible_grid = create_grid(GRID_SIZE)\n",
    "    \n",
    "    # Numero di tentativi a disposizione\n",
    "    attempts = 10\n",
    "    hits = 0\n",
    "\n",
    "    print(\"Hai 10 tentativi per colpire tutte le navi.\")\n",
    "    print_grid(visible_grid)\n",
    "\n",
    "    while attempts > 0 and hits < NUM_SHIPS:\n",
    "        try:\n",
    "            # Chiede all'utente di inserire le coordinate\n",
    "            row = int(input(\"Inserisci la riga (0-4): \"))\n",
    "            col = int(input(\"Inserisci la colonna (0-4): \"))\n",
    "            \n",
    "            # Controlla che le coordinate siano valide\n",
    "            if row < 0 or row >= GRID_SIZE or col < 0 or col >= GRID_SIZE:\n",
    "                print(\"Coordinate fuori dai limiti! Riprova.\")\n",
    "                continue\n",
    "            \n",
    "            # Controlla se la mossa è stata già fatta\n",
    "            if visible_grid[row][col] in [\"X\", \"H\"]:\n",
    "                print(\"Hai già sparato qui! Scegli un'altra posizione.\")\n",
    "                continue\n",
    "\n",
    "            # Controlla se c'è una nave\n",
    "            if (row, col) in ships:\n",
    "                print(\"Colpito!\")\n",
    "                visible_grid[row][col] = \"H\"  # H per \"Hit\" (colpito)\n",
    "                hits += 1\n",
    "            else:\n",
    "                print(\"Acqua!\")\n",
    "                visible_grid[row][col] = \"X\"  # X per \"Acqua\" (mancato)\n",
    "            \n",
    "            # Riduci i tentativi e mostra la griglia aggiornata\n",
    "            attempts -= 1\n",
    "            print(f\"Tentativi rimanenti: {attempts}\")\n",
    "            print_grid(visible_grid)\n",
    "        \n",
    "        except ValueError:\n",
    "            print(\"Input non valido! Inserisci solo numeri.\")\n",
    "\n",
    "    # Controlla l'esito del gioco\n",
    "    if hits == NUM_SHIPS:\n",
    "        print(\"Complimenti! Hai affondato tutte le navi!\")\n",
    "    else:\n",
    "        print(\"Hai terminato i tentativi. Hai perso!\")\n",
    "    \n",
    "    # Mostra la griglia completa con tutte le navi\n",
    "    print(\"Posizione delle navi:\")\n",
    "    for (row, col) in ships:\n",
    "        grid[row][col] = \"S\"  # Mostra le navi nella griglia finale\n",
    "    print_grid(grid, hide_ships=False)\n",
    "\n",
    "# Avvia il gioco\n",
    "play_game()"
   ]
  },
  {
   "cell_type": "code",
   "execution_count": null,
   "id": "6a1184d5-9cba-4986-b6c8-1f70d90a9ae1",
   "metadata": {},
   "outputs": [],
   "source": []
  }
 ],
 "metadata": {
  "kernelspec": {
   "display_name": "Python 3 (ipykernel)",
   "language": "python",
   "name": "python3"
  },
  "language_info": {
   "codemirror_mode": {
    "name": "ipython",
    "version": 3
   },
   "file_extension": ".py",
   "mimetype": "text/x-python",
   "name": "python",
   "nbconvert_exporter": "python",
   "pygments_lexer": "ipython3",
   "version": "3.8.9"
  }
 },
 "nbformat": 4,
 "nbformat_minor": 5
}
