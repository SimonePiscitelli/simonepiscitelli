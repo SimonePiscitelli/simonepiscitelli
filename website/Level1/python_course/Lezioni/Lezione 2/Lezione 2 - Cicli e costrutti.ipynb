{
 "cells": [
  {
   "cell_type": "markdown",
   "id": "053fb5a2-2f53-43f8-912d-ca76b007b710",
   "metadata": {},
   "source": [
    "## Cicli e Costrutti logici\n",
    "\n",
    "In questa lezione vediamo degli interessanti costrutti logici in python che spesso costituiscono una parte fondamentale di qualsiasi codice. In particolare, vedremo i seguenti argomenti:\n",
    "\n",
    "1) If-else\n",
    "2) For loop\n",
    "3) while loop"
   ]
  },
  {
   "cell_type": "markdown",
   "id": "6e1e6fbf-0b85-483b-ab7a-8b6a23e77a2b",
   "metadata": {},
   "source": [
    "### If - Else"
   ]
  },
  {
   "cell_type": "markdown",
   "id": "812d1c46-c51d-48b8-863f-37432303dc39",
   "metadata": {},
   "source": [
    "Il costrutto if-else indica una scelta binaria che il codice deve fare per avviare un determinato processo. In questo costrutto viene esplicitata una condizione che se vera accede ad una parte di codice che può contenere svariati processi mentre, se falsa, non verrà effettuato questo accesso. Di seguito vediamo un'applicazione basilare"
   ]
  },
  {
   "cell_type": "code",
   "execution_count": 5,
   "id": "ae55f033-c495-4116-beee-ce95b7e06d3d",
   "metadata": {},
   "outputs": [
    {
     "name": "stdout",
     "output_type": "stream",
     "text": [
      "valore = 0\n"
     ]
    }
   ],
   "source": [
    "value = 0\n",
    "\n",
    "if value == 0:\n",
    "    print('valore = %i'%value)\n",
    "\n",
    "#riassegno la variabile\n",
    "value = 1\n",
    "\n",
    "if value == 0:\n",
    "    print('valore = %i'%value)"
   ]
  },
  {
   "cell_type": "markdown",
   "id": "35fc00b8-c396-4975-ad98-ae6d3bf43002",
   "metadata": {},
   "source": [
    "Come si vede, abbiamo dato alla variabile 'value' un valore e il composto **if** andrà a verificare che 'value' sia uguale a 0. Se questa condizione è rispettata, allora si accede al comando print che stamperà il valore 0.\n",
    "\n",
    "NOTA: Come mai due uguali? In python il doppio uguale indica una comparazione tra valori. In questo caso la verifica che value=0. Un solo uguale definisce l'assegnazione dello 0 alla variabile, pertanto non è un operatore logico. Altri operatori di comparazione sono '>', '<' e '!=' che indica *diverso da*.\n",
    "\n",
    "Nell'esempio precedente osserviamo come, cambiando value non viene stampato nulla, propio perché la condizione non viene rispettata.\n",
    "\n",
    "Proviamo ora ad introdurre il costrutto else"
   ]
  },
  {
   "cell_type": "code",
   "execution_count": 6,
   "id": "e85c896e-18d9-46aa-95c5-d7864b2049fb",
   "metadata": {},
   "outputs": [
    {
     "name": "stdout",
     "output_type": "stream",
     "text": [
      "il valore non è 0\n"
     ]
    }
   ],
   "source": [
    "value = 1\n",
    "\n",
    "if value == 0:\n",
    "    print('valore = %i'%value)\n",
    "else:\n",
    "    print('il valore non è 0')"
   ]
  },
  {
   "cell_type": "markdown",
   "id": "2d6bf302-93c1-4064-b35c-0707b331b2dd",
   "metadata": {},
   "source": [
    "In tal caso abbiamo assegnato un valore che passa dalla verifica dell'if. Se la condizione non viene rispettata (in questo caso value != 0) allora viene letto il contenuto dell'else.\n",
    "\n",
    "Il passo successivo è quello di introdurre un modo di valutare più condizioni in maniera esplicita. L'aggiunta del composto **elif** fa al caso nostro"
   ]
  },
  {
   "cell_type": "code",
   "execution_count": 21,
   "id": "7243a903-b4fd-4914-bcea-57a11fd34f53",
   "metadata": {},
   "outputs": [
    {
     "name": "stdout",
     "output_type": "stream",
     "text": [
      "il valore è pari\n"
     ]
    }
   ],
   "source": [
    "value = 2\n",
    "\n",
    "if value == 0:\n",
    "    print('valore = %i'%value)\n",
    "elif value % 2 == 0:\n",
    "    print('il valore è pari')\n",
    "else:\n",
    "    print('il valore non è 0')"
   ]
  },
  {
   "cell_type": "markdown",
   "id": "03e83c37-916a-439b-a671-9e572cf3afa0",
   "metadata": {},
   "source": [
    "L'aggiunta di elif consente di valutare un'ulteriore condizione, in questo caso 'value % 2' calcola il resto della divisione tra value e 2. Se il resto è zero significa che il numero è divisibile per 2 e, di conseguenza, è pari. Come si vede dall'esempio la condizione elif esclude quella in else. Se value=2 allora anche else è vera; come mai non viene stampato l'ultimo print? Ebbene ciò che fa questo codice è fermarsi quando incontro una condizione vera. \n",
    "\n",
    "Come posso verificare più condizioni contemporaneamente? Mi devo servire dei seguenti operatori logici:\n",
    "\n",
    "1) and: due condizioni sono verificate allo stesso tempo\n",
    "2) or: una delle due condizioni deve essere verificata"
   ]
  },
  {
   "cell_type": "code",
   "execution_count": 23,
   "id": "89d8c34f-4b49-4076-919d-033f505795d0",
   "metadata": {},
   "outputs": [
    {
     "name": "stdout",
     "output_type": "stream",
     "text": [
      "Entrambe le condizioni sono verificate\n",
      "Una sola condizione è verificata\n"
     ]
    }
   ],
   "source": [
    "value = 0\n",
    "if value == 0 and value % 2 == 0:\n",
    "    print('Entrambe le condizioni sono verificate')\n",
    "\n",
    "value = 2\n",
    "if value == 0 or value % 2 == 0:\n",
    "    print('Una sola condizione è verificata')"
   ]
  },
  {
   "cell_type": "markdown",
   "id": "ac7e44af-e411-46fe-bcc8-bbca342d5600",
   "metadata": {},
   "source": [
    "Nell'esempio specifico le condizioni sono correlate, ovvero non potrò avere verificata la prima senza che lo sia la seconda, ma comunque l'utilizzo di and e or risulta funzionale. \n",
    "\n",
    "Si rimanda al seguente link per una lista di operatori logici in python:\n",
    "https://www.html.it/pag/39742/numeri-e-operatori-logici-in-python/#google_vignette"
   ]
  },
  {
   "cell_type": "markdown",
   "id": "a42f3867-1a4f-49fa-8596-65766c996339",
   "metadata": {},
   "source": [
    "### For Loop"
   ]
  },
  {
   "cell_type": "markdown",
   "id": "e00889ff-2613-4c1d-8d11-9d06d86c9f78",
   "metadata": {},
   "source": [
    "Il for loop è un costrutto che fa parte dei cosiddetti cicli di python. Come dice la stessa parole ciclo, questi composti vengono utilizzati per iterare o ripetere determinati pezzi di codice per un certo numero di volte. Eccone un esempio"
   ]
  },
  {
   "cell_type": "code",
   "execution_count": 26,
   "id": "c17e8055-5f43-4758-9335-04f9aecab376",
   "metadata": {},
   "outputs": [
    {
     "name": "stdout",
     "output_type": "stream",
     "text": [
      "0\n",
      "2\n",
      "4\n",
      "6\n",
      "8\n"
     ]
    }
   ],
   "source": [
    "x = list(range(10))\n",
    "\n",
    "for item in x:\n",
    "    if item % 2 == 0:\n",
    "        print(item)\n",
    "    "
   ]
  },
  {
   "cell_type": "markdown",
   "id": "baf4da23-d079-4a11-ae24-73d7d71e5d9a",
   "metadata": {},
   "source": [
    "Cosa è successo? Analizziamo il codice con calma. Il costrutto **for** sta definendo la variabile *item* assegnandogli un valore della lista x ad ogni ripetizione. Questo valore viene assegnato ad item e successivamente ne viene calcolato il resto. Se questo resto è nullo allora stampo il valore in item. \n",
    "\n",
    "Cosa mi aspetto di avere? Ovviamente, se è tutto chiaro, mi aspetto di ottenere i numeri pari. Questo succede perché quando in item vengono salvati i numeri dispari la condizione del costrutto if non viene rispettata e, di conseguenza, non stampo nulla. Ecco un esempio che mostra come i numeri vengono sempre salvati in item."
   ]
  },
  {
   "cell_type": "code",
   "execution_count": 29,
   "id": "7ab10353-13a3-4426-903c-e484c835352d",
   "metadata": {},
   "outputs": [
    {
     "name": "stdout",
     "output_type": "stream",
     "text": [
      "numero pari: 0\n",
      "numero dispari: 1\n",
      "numero pari: 2\n",
      "numero dispari: 3\n",
      "numero pari: 4\n",
      "numero dispari: 5\n",
      "numero pari: 6\n",
      "numero dispari: 7\n",
      "numero pari: 8\n",
      "numero dispari: 9\n"
     ]
    }
   ],
   "source": [
    "for item in x:\n",
    "    if item % 2 == 0:\n",
    "        print('numero pari: %i'%item)\n",
    "    else:\n",
    "        print('numero dispari: %i'%item)"
   ]
  },
  {
   "cell_type": "markdown",
   "id": "cd1d8258-68e0-4a47-b708-e5b4f954dd3a",
   "metadata": {},
   "source": [
    "Quando terminerà il ciclo? Quando la variabile item avrà assunto tutti i valori nella lista x il ciclo terminerà ridando l'output.\n",
    "\n",
    "Un uso molto comune di questo ciclo si basa sull'indicizzazione delle liste. Quello che voglio fare è far assumere valori differenti ad un indice in modo tale da avere le diverse componenti della lista in questione. Ecco un esempio"
   ]
  },
  {
   "cell_type": "code",
   "execution_count": 31,
   "id": "f8dfb32a-4f41-4e0c-b952-2ec21c9221de",
   "metadata": {},
   "outputs": [
    {
     "name": "stdout",
     "output_type": "stream",
     "text": [
      "0\n",
      "1\n",
      "2\n",
      "3\n",
      "4\n",
      "5\n",
      "6\n",
      "7\n",
      "8\n",
      "9\n"
     ]
    }
   ],
   "source": [
    "for index in range(len(x)):\n",
    "    print(x[index])"
   ]
  },
  {
   "cell_type": "markdown",
   "id": "a28ae915-b921-4ce8-b295-f336959d2a6b",
   "metadata": {},
   "source": [
    "### While Loop"
   ]
  },
  {
   "cell_type": "markdown",
   "id": "76b6db0b-144b-4655-9b65-4baeffa38b6f",
   "metadata": {},
   "source": [
    "Il ciclo while costituisce un ciclo leggermente differente dal for in quanto la logica iniziale è diversa. Mentre il ciclo for si basa sull'assegnazione di una variabile in un intervallo finito di valori, il ciclo while si basa sulla verifica di una determinata condizione. Una volta definita la condizione, il ciclo while verifica che questa sia vera o falsa; se è vera continuerà a svolgere la parte di codice all'interno finché la condizione non verrà cambiata all'interno del ciclo stesso. Eccone un esempio"
   ]
  },
  {
   "cell_type": "code",
   "execution_count": 36,
   "id": "dc1a4b82-82f8-4ac7-a2e7-bea2484cbe1c",
   "metadata": {},
   "outputs": [
    {
     "name": "stdout",
     "output_type": "stream",
     "text": [
      "1\n",
      "2\n",
      "3\n",
      "4\n",
      "5\n",
      "6\n",
      "7\n",
      "8\n",
      "9\n",
      "10\n"
     ]
    }
   ],
   "source": [
    "x = 0\n",
    "while x < 10:\n",
    "    x += 1\n",
    "    print(x)"
   ]
  },
  {
   "cell_type": "markdown",
   "id": "82c6fae0-6227-4e11-9fcb-fee9e56b68d5",
   "metadata": {},
   "source": [
    "In questo esempio ho assegnato a x il valore 0. La condizione è rappresentata da x<0, pertanto è vera e si può entrare nel ciclo. Ad ogni iterazione la stringa 'x+=1' aggiunge al valore corrente di x un 1. Questo valore viene stampato. Il ciclo si interrompe quando x=10 in quanto la condizione x<10 non è più vera. \n",
    "\n",
    "NOTA: se non cambiassi il valore di x ad ogni ciclo ma lo stampassi solamente il ciclo while continuerebbe all'infinito!"
   ]
  },
  {
   "cell_type": "markdown",
   "id": "11c5f9fa-4247-4f6b-9bb6-2a89f146176a",
   "metadata": {},
   "source": [
    "### Esercizio 1\n",
    "- Scrivere un programma che chiede all'utente di inserire due numeri e stampa \"Il primo numero è maggiore\" se il primo numero è maggiore del secondo, \"Il secondo numero è maggiore\" se il secondo numero è maggiore del primo, altrimenti stampa \"I numeri sono uguali\".\n",
    "- Scrivere un programma che chiede all'utente di inserire un numero e stampa \"Il numero è compreso tra 1 e 10\" se il numero è compreso tra 1 e 10, altrimenti stampa \"Il numero non è compreso tra 1 e 10\".\n",
    "- Scrivi un programma che chieda all'utente di inserire tre numeri interi che rappresentano i lati di un triangolo. Il programma deve verificare se questi tre numeri formano un triangolo rettangolo. Se i tre numeri soddisfano la condizione per essere un triangolo rettangolo (cioè rispettano il teorema di Pitagora), allora stampa \"I tre numeri formano un triangolo rettangolo\". Altrimenti, stampa \"I tre numeri non formano un triangolo rettangolo\"."
   ]
  },
  {
   "cell_type": "markdown",
   "id": "f4084526-b15b-42a0-93f7-3ceeb1873e06",
   "metadata": {},
   "source": [
    "### Esercizio 2\n",
    "- Calcolare la somma dei primi n numeri interi positivi usando un loop while. L'utente deve inserire il valore di n.\n",
    "- Scrivere un programma che utilizzi un loop for per stampare tutte le chiavi di un dizionario.\n",
    "- Scrivere un programma che utilizzi un loop for per calcolare la media di una lista di numeri."
   ]
  },
  {
   "cell_type": "markdown",
   "id": "89bfc77c-727a-4795-a8c7-1518e30d4dbe",
   "metadata": {},
   "source": [
    "### Sfida: Tris"
   ]
  },
  {
   "cell_type": "code",
   "execution_count": null,
   "id": "ee51d949-fd5c-4c55-8110-dc1ff1950ee0",
   "metadata": {},
   "outputs": [],
   "source": [
    "# Funzione per inizializzare la griglia vuota\n",
    "def create_board():\n",
    "    return [[\" \" for _ in range(3)] for _ in range(3)]\n",
    "\n",
    "# Funzione per stampare la griglia\n",
    "def print_board(board):\n",
    "    for row in board:\n",
    "        print(\"|\".join(row))\n",
    "        print(\"-\" * 5)\n",
    "\n",
    "# Funzione per verificare se un giocatore ha vinto\n",
    "def check_winner(board, player):\n",
    "    # Controlla le righe\n",
    "    for row in board:\n",
    "        if all([cell == player for cell in row]):\n",
    "            return True\n",
    "    # Controlla le colonne\n",
    "    for col in range(3):\n",
    "        if all([board[row][col] == player for row in range(3)]):\n",
    "            return True\n",
    "    # Controlla le diagonali\n",
    "    if all([board[i][i] == player for i in range(3)]) or \\\n",
    "       all([board[i][2 - i] == player for i in range(3)]):\n",
    "        return True\n",
    "    return False\n",
    "\n",
    "# Funzione per controllare se la griglia è piena\n",
    "def check_draw(board):\n",
    "    return all([cell != \" \" for row in board for cell in row])\n",
    "\n",
    "# Funzione principale del gioco\n",
    "def play_game():\n",
    "    board = create_board()\n",
    "    current_player = \"X\"\n",
    "\n",
    "    print(\"Benvenuto a Tic Tac Toe!\")\n",
    "    print_board(board)\n",
    "\n",
    "    while True:\n",
    "        # Chiede all'utente di inserire la posizione della mossa\n",
    "        try:\n",
    "            row = int(input(f\"Giocatore {current_player}, inserisci la riga (0, 1 o 2): \"))\n",
    "            col = int(input(f\"Giocatore {current_player}, inserisci la colonna (0, 1 o 2): \"))\n",
    "\n",
    "            # Verifica che la mossa sia all'interno dei limiti e che la casella sia vuota\n",
    "            if row < 0 or row > 2 or col < 0 or col > 2:\n",
    "                print(\"Posizione non valida. Riprova.\")\n",
    "                continue\n",
    "            if board[row][col] != \" \":\n",
    "                print(\"Casella già occupata. Riprova.\")\n",
    "                continue\n",
    "\n",
    "            # Aggiorna la griglia con la mossa del giocatore\n",
    "            board[row][col] = current_player\n",
    "            print_board(board)\n",
    "\n",
    "            # Controlla se il giocatore ha vinto\n",
    "            if check_winner(board, current_player):\n",
    "                print(f\"Complimenti! Il giocatore {current_player} ha vinto!\")\n",
    "                break\n",
    "\n",
    "            # Controlla se la partita è finita con un pareggio\n",
    "            if check_draw(board):\n",
    "                print(\"È un pareggio!\")\n",
    "                break\n",
    "\n",
    "            # Cambia turno\n",
    "            current_player = \"O\" if current_player == \"X\" else \"X\"\n",
    "\n",
    "        except ValueError:\n",
    "            print(\"Input non valido. Inserisci numeri interi per riga e colonna.\")\n",
    "            continue\n",
    "\n",
    "# Avvia il gioco\n",
    "play_game()\n"
   ]
  }
 ],
 "metadata": {
  "kernelspec": {
   "display_name": "Python 3 (ipykernel)",
   "language": "python",
   "name": "python3"
  },
  "language_info": {
   "codemirror_mode": {
    "name": "ipython",
    "version": 3
   },
   "file_extension": ".py",
   "mimetype": "text/x-python",
   "name": "python",
   "nbconvert_exporter": "python",
   "pygments_lexer": "ipython3",
   "version": "3.8.9"
  }
 },
 "nbformat": 4,
 "nbformat_minor": 5
}
